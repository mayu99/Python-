{
  "cells": [
    {
      "cell_type": "markdown",
      "metadata": {
        "id": "view-in-github",
        "colab_type": "text"
      },
      "source": [
        "<a href=\"https://colab.research.google.com/github/mayu99/Python-/blob/main/1_Basics_of_Python.ipynb\" target=\"_parent\"><img src=\"https://colab.research.google.com/assets/colab-badge.svg\" alt=\"Open In Colab\"/></a>"
      ]
    },
    {
      "cell_type": "markdown",
      "metadata": {
        "id": "M-PYWVqmzyT1"
      },
      "source": [
        "## Basic of Python\n",
        "\n",
        "In this video we will discuss about\n",
        "\n",
        "- Various Datatypes in Python\n",
        "- Variable\n",
        "- Variables Assigment\n",
        "- Print Formatting\n"
      ]
    },
    {
      "cell_type": "markdown",
      "metadata": {
        "id": "zJmp4BzdzyT3"
      },
      "source": [
        "## Various DataTypes in Python\n",
        "\n",
        "### Numbers"
      ]
    },
    {
      "cell_type": "markdown",
      "metadata": {
        "id": "xTqmq2n0zyT4"
      },
      "source": [
        "# Python Tutorial\n",
        "\n",
        "## Welcome to Python Tutorial\n",
        "\n",
        "\n",
        "- Datatype"
      ]
    },
    {
      "cell_type": "code",
      "execution_count": null,
      "metadata": {
        "id": "VrxmpzchzyT4",
        "outputId": "b8794e46-7da8-4ce2-f9a3-c0a8aff470d2"
      },
      "outputs": [
        {
          "data": {
            "text/plain": [
              "2"
            ]
          },
          "execution_count": 2,
          "metadata": {},
          "output_type": "execute_result"
        }
      ],
      "source": [
        "1+1"
      ]
    },
    {
      "cell_type": "code",
      "execution_count": null,
      "metadata": {
        "id": "7RTKyjEFzyT5",
        "outputId": "9764ed4c-c150-4866-b37f-d40af4ac4532"
      },
      "outputs": [
        {
          "data": {
            "text/plain": [
              "20"
            ]
          },
          "execution_count": 3,
          "metadata": {},
          "output_type": "execute_result"
        }
      ],
      "source": [
        "4*5"
      ]
    },
    {
      "cell_type": "code",
      "execution_count": null,
      "metadata": {
        "id": "e8ro0DGnzyT5",
        "outputId": "7de42aaf-aad3-4c02-d3dc-34d93bc01f80"
      },
      "outputs": [
        {
          "data": {
            "text/plain": [
              "20"
            ]
          },
          "execution_count": 4,
          "metadata": {},
          "output_type": "execute_result"
        }
      ],
      "source": [
        "2*10"
      ]
    },
    {
      "cell_type": "code",
      "execution_count": null,
      "metadata": {
        "id": "lbjvazjYzyT6",
        "outputId": "37014007-71b1-46ad-8c45-ca780e7bebc6"
      },
      "outputs": [
        {
          "data": {
            "text/plain": [
              "5.0"
            ]
          },
          "execution_count": 5,
          "metadata": {},
          "output_type": "execute_result"
        }
      ],
      "source": [
        "10/2"
      ]
    },
    {
      "cell_type": "code",
      "execution_count": null,
      "metadata": {
        "id": "mo_PEoVhzyT6",
        "outputId": "4446822a-23da-4df4-a446-4a1e0d122709"
      },
      "outputs": [
        {
          "data": {
            "text/plain": [
              "0"
            ]
          },
          "execution_count": 7,
          "metadata": {},
          "output_type": "execute_result"
        }
      ],
      "source": [
        "10%2"
      ]
    },
    {
      "cell_type": "code",
      "execution_count": null,
      "metadata": {
        "id": "k-U_aewozyT6",
        "outputId": "bcb1d6a6-a8f5-4ad0-e2c8-9618589390c7"
      },
      "outputs": [
        {
          "data": {
            "text/plain": [
              "100"
            ]
          },
          "execution_count": 8,
          "metadata": {},
          "output_type": "execute_result"
        }
      ],
      "source": [
        "10**2"
      ]
    },
    {
      "cell_type": "code",
      "execution_count": null,
      "metadata": {
        "id": "uI8NmfrmzyT6"
      },
      "outputs": [],
      "source": [
        "##Check the Data types"
      ]
    },
    {
      "cell_type": "code",
      "execution_count": null,
      "metadata": {
        "id": "l1TW3WPCzyT6",
        "outputId": "a3030469-55fa-4269-dc7c-3d2757c1e7be"
      },
      "outputs": [
        {
          "data": {
            "text/plain": [
              "bool"
            ]
          },
          "execution_count": 4,
          "metadata": {},
          "output_type": "execute_result"
        }
      ],
      "source": [
        "type(True)"
      ]
    },
    {
      "cell_type": "code",
      "execution_count": null,
      "metadata": {
        "id": "8nETSwSbzyT7",
        "outputId": "24e6195b-36a3-49a0-86f1-769b44bd0e97"
      },
      "outputs": [
        {
          "data": {
            "text/plain": [
              "str"
            ]
          },
          "execution_count": 27,
          "metadata": {},
          "output_type": "execute_result"
        }
      ],
      "source": [
        "type(\"Hello\")"
      ]
    },
    {
      "cell_type": "markdown",
      "metadata": {
        "id": "y2kGU8mZzyT7"
      },
      "source": [
        "### Strings"
      ]
    },
    {
      "cell_type": "code",
      "execution_count": null,
      "metadata": {
        "id": "TOHMGZ6mzyT7",
        "outputId": "71e34e02-6661-4236-fa32-c3d6813592a5"
      },
      "outputs": [
        {
          "data": {
            "text/plain": [
              "'Hello'"
            ]
          },
          "execution_count": 9,
          "metadata": {},
          "output_type": "execute_result"
        }
      ],
      "source": [
        "\"Hello\""
      ]
    },
    {
      "cell_type": "code",
      "execution_count": null,
      "metadata": {
        "id": "1wjNq4PMzyT7",
        "outputId": "96123695-b9a3-4cbd-9ac7-404ebc7ec5ed"
      },
      "outputs": [
        {
          "data": {
            "text/plain": [
              "'Krish Naik'"
            ]
          },
          "execution_count": 10,
          "metadata": {},
          "output_type": "execute_result"
        }
      ],
      "source": [
        "'Krish Naik'"
      ]
    },
    {
      "cell_type": "code",
      "execution_count": null,
      "metadata": {
        "id": "gxdmy7UOzyT7",
        "outputId": "1d18a2c9-b18f-4da8-87c8-a001a7f605c3"
      },
      "outputs": [
        {
          "data": {
            "text/plain": [
              "str"
            ]
          },
          "execution_count": 5,
          "metadata": {},
          "output_type": "execute_result"
        }
      ],
      "source": [
        "type(\"Krish Naik\")"
      ]
    },
    {
      "cell_type": "markdown",
      "metadata": {
        "id": "1Z-lp2m5zyT8"
      },
      "source": [
        "### Variable Assigment"
      ]
    },
    {
      "cell_type": "code",
      "execution_count": null,
      "metadata": {
        "id": "ubk7oiF5zyT8"
      },
      "outputs": [],
      "source": [
        "# syntax\n",
        "# var_name=values\n",
        "\n",
        "a=10"
      ]
    },
    {
      "cell_type": "code",
      "execution_count": null,
      "metadata": {
        "id": "j01F-6Z0zyT8",
        "outputId": "cc5f8f34-f84d-4d28-ac8c-ce7fb08fc890"
      },
      "outputs": [
        {
          "data": {
            "text/plain": [
              "int"
            ]
          },
          "execution_count": 7,
          "metadata": {},
          "output_type": "execute_result"
        }
      ],
      "source": [
        "type(a)"
      ]
    },
    {
      "cell_type": "code",
      "execution_count": null,
      "metadata": {
        "id": "KnpuzqoSzyT8"
      },
      "outputs": [],
      "source": [
        "a='Krish Naik'"
      ]
    },
    {
      "cell_type": "code",
      "execution_count": null,
      "metadata": {
        "id": "JBJhrEmMzyT8",
        "outputId": "3268ea37-f643-4950-b4db-64abb435ad20"
      },
      "outputs": [
        {
          "data": {
            "text/plain": [
              "str"
            ]
          },
          "execution_count": 16,
          "metadata": {},
          "output_type": "execute_result"
        }
      ],
      "source": [
        "type(a)"
      ]
    },
    {
      "cell_type": "code",
      "execution_count": null,
      "metadata": {
        "id": "WGrU8abczyT8"
      },
      "outputs": [],
      "source": [
        "## Mathematical operation with Variable Assigment\n",
        "\n",
        "a=10\n",
        "b=20"
      ]
    },
    {
      "cell_type": "code",
      "execution_count": null,
      "metadata": {
        "id": "CUQfkIayzyT9",
        "outputId": "5f621312-6603-490c-9230-872da0b669c1"
      },
      "outputs": [
        {
          "name": "stdout",
          "output_type": "stream",
          "text": [
            "200\n",
            "0.5\n",
            "10\n",
            "200.5\n"
          ]
        }
      ],
      "source": [
        "print(a*b)\n",
        "print(a/b)\n",
        "print(a%b)\n",
        "print((a*b)+(a/b)) ##BODMAS"
      ]
    },
    {
      "cell_type": "code",
      "execution_count": null,
      "metadata": {
        "id": "1NUkaHJNzyT9",
        "outputId": "c9ec990a-91ee-4329-98ef-543803d3d01b"
      },
      "outputs": [
        {
          "name": "stdout",
          "output_type": "stream",
          "text": [
            "Hello\n"
          ]
        }
      ],
      "source": [
        "## Various Ways of Printing\n",
        "\n",
        "print(\"Hello\")"
      ]
    },
    {
      "cell_type": "code",
      "execution_count": null,
      "metadata": {
        "id": "TMjfsva3zyT9"
      },
      "outputs": [],
      "source": [
        "first_name='Krish'\n",
        "last_name='Naik'"
      ]
    },
    {
      "cell_type": "code",
      "execution_count": null,
      "metadata": {
        "id": "SX0rbp6ezyT9",
        "outputId": "d43ff48a-915c-4445-981d-e87d6104baf9"
      },
      "outputs": [
        {
          "name": "stdout",
          "output_type": "stream",
          "text": [
            "My first name is Naik and last name is Krish\n"
          ]
        }
      ],
      "source": [
        "print(\"My first name is {} and last name is {}\".format(first_name,last_name))"
      ]
    },
    {
      "cell_type": "code",
      "execution_count": null,
      "metadata": {
        "id": "XiK3cDarzyT-",
        "outputId": "a3ae095a-84fc-4349-d120-ae79a4ae752e"
      },
      "outputs": [
        {
          "name": "stdout",
          "output_type": "stream",
          "text": [
            "My First name is Krish and last name is Naik\n"
          ]
        }
      ],
      "source": [
        "print(\"My First name is {first} and last name is {last}\".format(last=last_name,first=first_name))"
      ]
    },
    {
      "cell_type": "code",
      "execution_count": null,
      "metadata": {
        "id": "iTMvNo-bzyT-",
        "outputId": "26095aeb-5d69-469a-dce8-929a916dccae"
      },
      "outputs": [
        {
          "data": {
            "text/plain": [
              "5"
            ]
          },
          "execution_count": 12,
          "metadata": {},
          "output_type": "execute_result"
        }
      ],
      "source": [
        "len('Krish')"
      ]
    },
    {
      "cell_type": "code",
      "execution_count": null,
      "metadata": {
        "id": "WTczhwJGzyT-",
        "outputId": "28c499db-e135-45f1-e839-5ae1c2e6065d"
      },
      "outputs": [
        {
          "data": {
            "text/plain": [
              "list"
            ]
          },
          "execution_count": 15,
          "metadata": {},
          "output_type": "execute_result"
        }
      ],
      "source": [
        "type(['1',2,3,4,5])"
      ]
    },
    {
      "cell_type": "code",
      "execution_count": null,
      "metadata": {
        "id": "pUZoTuW-zyT-"
      },
      "outputs": [],
      "source": []
    }
  ],
  "metadata": {
    "kernelspec": {
      "display_name": "Python 3",
      "language": "python",
      "name": "python3"
    },
    "language_info": {
      "codemirror_mode": {
        "name": "ipython",
        "version": 3
      },
      "file_extension": ".py",
      "mimetype": "text/x-python",
      "name": "python",
      "nbconvert_exporter": "python",
      "pygments_lexer": "ipython3",
      "version": "3.6.7"
    },
    "colab": {
      "provenance": [],
      "include_colab_link": true
    }
  },
  "nbformat": 4,
  "nbformat_minor": 0
}