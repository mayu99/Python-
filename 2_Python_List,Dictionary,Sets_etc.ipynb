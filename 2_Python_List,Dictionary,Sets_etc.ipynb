{
  "cells": [
    {
      "cell_type": "markdown",
      "metadata": {
        "id": "view-in-github",
        "colab_type": "text"
      },
      "source": [
        "<a href=\"https://colab.research.google.com/github/mayu99/Python-/blob/main/2_Python_List%2CDictionary%2CSets_etc.ipynb\" target=\"_parent\"><img src=\"https://colab.research.google.com/assets/colab-badge.svg\" alt=\"Open In Colab\"/></a>"
      ]
    },
    {
      "cell_type": "markdown",
      "metadata": {
        "id": "JA2KomUw8Zht"
      },
      "source": [
        "## Python Data Structures and Boolean\n",
        "\n",
        "- Boolean\n",
        "- Boolean and Logical Operators\n",
        "- Lists\n",
        "- Comparison operators\n",
        "- Dictionaries\n",
        "- Tuples\n",
        "- Sets\n"
      ]
    },
    {
      "cell_type": "markdown",
      "metadata": {
        "id": "q070snhK8Zhv"
      },
      "source": [
        "### Boolean Variables\n",
        "\n",
        "Boolean values are the two constant objects False and True.\n",
        "\n",
        "They are used to represent truth values (other values can also be considered\n",
        "false or true).\n",
        "\n",
        "In numeric contexts (for example, when used as the argument to an\n",
        "arithmetic operator), they behave like the integers 0 and 1, respectively.\n",
        "\n",
        "The built-in function bool() can be used to cast any value to a Boolean,\n",
        "if the value can be interpreted as a truth value\n",
        "\n",
        "They are written as False and True, respectively.\n",
        "\n"
      ]
    },
    {
      "cell_type": "code",
      "execution_count": null,
      "metadata": {
        "id": "Aje_yNfo8Zhw",
        "outputId": "02063671-5a4e-4e46-acdb-7da600cc11e6"
      },
      "outputs": [
        {
          "data": {
            "text/plain": [
              "False"
            ]
          },
          "execution_count": 3,
          "metadata": {},
          "output_type": "execute_result"
        }
      ],
      "source": [
        "False"
      ]
    },
    {
      "cell_type": "code",
      "execution_count": null,
      "metadata": {
        "id": "M-qjhiun8Zhx",
        "outputId": "634e3b7e-4a8f-4e37-aece-677def9ad99f"
      },
      "outputs": [
        {
          "name": "stdout",
          "output_type": "stream",
          "text": [
            "True False\n"
          ]
        }
      ],
      "source": [
        "print(True,False)"
      ]
    },
    {
      "cell_type": "code",
      "execution_count": null,
      "metadata": {
        "id": "86ED_nX08Zhx",
        "outputId": "523bee51-3829-4edf-a494-336a20624d70"
      },
      "outputs": [
        {
          "data": {
            "text/plain": [
              "bool"
            ]
          },
          "execution_count": 4,
          "metadata": {},
          "output_type": "execute_result"
        }
      ],
      "source": [
        "type(True)"
      ]
    },
    {
      "cell_type": "code",
      "execution_count": null,
      "metadata": {
        "id": "eJx2xTSf8Zhy",
        "outputId": "b7e7f725-68d8-44b7-8754-ab7119092708"
      },
      "outputs": [
        {
          "data": {
            "text/plain": [
              "bool"
            ]
          },
          "execution_count": 5,
          "metadata": {},
          "output_type": "execute_result"
        }
      ],
      "source": [
        "type(False)"
      ]
    },
    {
      "cell_type": "code",
      "execution_count": null,
      "metadata": {
        "id": "fl9vKXIj8Zhy"
      },
      "outputs": [],
      "source": [
        "my_str='Krish123'"
      ]
    },
    {
      "cell_type": "code",
      "source": [
        "my_str."
      ],
      "metadata": {
        "id": "ZQmb08Bs9WRm"
      },
      "execution_count": null,
      "outputs": []
    },
    {
      "cell_type": "code",
      "execution_count": null,
      "metadata": {
        "id": "MDwYk9WD8Zhy",
        "outputId": "9d8d470a-5040-4f94-cb69-298734ac93ce"
      },
      "outputs": [
        {
          "data": {
            "text/plain": [
              "True"
            ]
          },
          "execution_count": 10,
          "metadata": {},
          "output_type": "execute_result"
        }
      ],
      "source": [
        "my_str.istitle()"
      ]
    },
    {
      "cell_type": "code",
      "execution_count": null,
      "metadata": {
        "id": "oKqWBsWZ8Zhy",
        "outputId": "2dd10b13-3ebd-49d9-d5a9-4838c21a43f5"
      },
      "outputs": [
        {
          "name": "stdout",
          "output_type": "stream",
          "text": [
            "True\n",
            "False\n",
            "False\n",
            "True\n",
            "False\n",
            "False\n",
            "False\n",
            "False\n",
            "True\n"
          ]
        }
      ],
      "source": [
        "print(my_str.isalnum()) #check if all char are numbers\n",
        "print(my_str.isalpha()) #check if all char in the string are alphabetic\n",
        "print(my_str.isdigit()) #test if string contains digits\n",
        "print(my_str.istitle()) #test if string contains title words\n",
        "print(my_str.isupper()) #test if string contains upper case\n",
        "print(my_str.islower()) #test if string contains lower case\n",
        "print(my_str.isspace()) #test if string contains spaces\n",
        "print(my_str.endswith('k')) #test if string endswith a d\n",
        "print(my_str.startswith('K')) #test if string startswith H"
      ]
    },
    {
      "cell_type": "markdown",
      "metadata": {
        "id": "oSQfqENE8Zhz"
      },
      "source": [
        "### Boolean and Logical Operators"
      ]
    },
    {
      "cell_type": "code",
      "execution_count": null,
      "metadata": {
        "id": "Jz6Wxe7h8Zhz",
        "outputId": "296471e6-fc04-4198-8243-280b82d6a441"
      },
      "outputs": [
        {
          "data": {
            "text/plain": [
              "True"
            ]
          },
          "execution_count": 10,
          "metadata": {},
          "output_type": "execute_result"
        }
      ],
      "source": [
        "True and True"
      ]
    },
    {
      "cell_type": "code",
      "execution_count": null,
      "metadata": {
        "id": "0AO8KOLj8Zhz",
        "outputId": "3d898a20-5ead-457e-a70f-67c4553d7caa"
      },
      "outputs": [
        {
          "data": {
            "text/plain": [
              "False"
            ]
          },
          "execution_count": 11,
          "metadata": {},
          "output_type": "execute_result"
        }
      ],
      "source": [
        "True and False"
      ]
    },
    {
      "cell_type": "code",
      "execution_count": null,
      "metadata": {
        "id": "tqpZtPIl8Zhz",
        "outputId": "cea06309-c990-4434-9cf2-d0291b7f46ec"
      },
      "outputs": [
        {
          "data": {
            "text/plain": [
              "True"
            ]
          },
          "execution_count": 12,
          "metadata": {},
          "output_type": "execute_result"
        }
      ],
      "source": [
        "True or False"
      ]
    },
    {
      "cell_type": "code",
      "execution_count": null,
      "metadata": {
        "id": "V90n2BU18Zhz",
        "outputId": "a5e51a6e-9207-4d1d-8713-d306c9962a56"
      },
      "outputs": [
        {
          "data": {
            "text/plain": [
              "True"
            ]
          },
          "execution_count": 13,
          "metadata": {},
          "output_type": "execute_result"
        }
      ],
      "source": [
        "True or True"
      ]
    },
    {
      "cell_type": "code",
      "execution_count": null,
      "metadata": {
        "id": "1pUGy8OF8Zhz"
      },
      "outputs": [],
      "source": [
        "str_example='Hello World'\n",
        "my_str='Krish'"
      ]
    },
    {
      "cell_type": "code",
      "execution_count": null,
      "metadata": {
        "id": "9_vQo45u8Zh0",
        "outputId": "ebebf525-b97b-48d4-e97a-55db3ea1e10e"
      },
      "outputs": [
        {
          "data": {
            "text/plain": [
              "True"
            ]
          },
          "execution_count": 14,
          "metadata": {},
          "output_type": "execute_result"
        }
      ],
      "source": [
        "my_str.isalpha() or str_example.isnum()"
      ]
    },
    {
      "cell_type": "markdown",
      "metadata": {
        "id": "4mM9E-eC8Zh0"
      },
      "source": [
        "### Lists\n",
        "\n",
        "A list is a data structure in Python that is a mutable, or changeable, ordered sequence of elements. Each element or value that is inside of a list is called an item. Just as strings are defined as characters between quotes, lists are defined by having values between square brackets [ ]"
      ]
    },
    {
      "cell_type": "code",
      "execution_count": null,
      "metadata": {
        "id": "ZMMdK-w08Zh1",
        "outputId": "19c1cda1-6e8a-4f4c-8a45-a57e12d41a0c"
      },
      "outputs": [
        {
          "data": {
            "text/plain": [
              "list"
            ]
          },
          "execution_count": 15,
          "metadata": {},
          "output_type": "execute_result"
        }
      ],
      "source": [
        "type([])"
      ]
    },
    {
      "cell_type": "code",
      "execution_count": null,
      "metadata": {
        "id": "oJEPCd6P8Zh1"
      },
      "outputs": [],
      "source": [
        "lst_example=[]"
      ]
    },
    {
      "cell_type": "code",
      "execution_count": null,
      "metadata": {
        "id": "D0gkBRs08Zh1",
        "outputId": "34e901c9-112e-4501-c538-2836cac8195a"
      },
      "outputs": [
        {
          "data": {
            "text/plain": [
              "list"
            ]
          },
          "execution_count": 19,
          "metadata": {},
          "output_type": "execute_result"
        }
      ],
      "source": [
        "type(lst_example)"
      ]
    },
    {
      "cell_type": "code",
      "execution_count": null,
      "metadata": {
        "id": "uMvhMbOq8Zh2"
      },
      "outputs": [],
      "source": [
        "lst=list()"
      ]
    },
    {
      "cell_type": "code",
      "execution_count": null,
      "metadata": {
        "id": "UeTNEbup8Zh2",
        "outputId": "0667e9d4-3168-4673-c5d8-86b954ee5364"
      },
      "outputs": [
        {
          "data": {
            "text/plain": [
              "list"
            ]
          },
          "execution_count": 21,
          "metadata": {},
          "output_type": "execute_result"
        }
      ],
      "source": [
        "type(lst)"
      ]
    },
    {
      "cell_type": "code",
      "execution_count": null,
      "metadata": {
        "id": "NGQM3ykb8Zh2"
      },
      "outputs": [],
      "source": [
        "lst=['Mathematics', 'chemistry', 100, 200, 300, 204]"
      ]
    },
    {
      "cell_type": "code",
      "execution_count": null,
      "metadata": {
        "id": "NMNiukf_8Zh2",
        "outputId": "eca97357-b181-4e1a-a1e9-cb09eb3b4c43"
      },
      "outputs": [
        {
          "data": {
            "text/plain": [
              "6"
            ]
          },
          "execution_count": 18,
          "metadata": {},
          "output_type": "execute_result"
        }
      ],
      "source": [
        "len(lst)"
      ]
    },
    {
      "cell_type": "code",
      "execution_count": null,
      "metadata": {
        "id": "MR2nDfNt8Zh2",
        "outputId": "596fe6e7-9750-4c2f-e3d8-ab76bf2c3642"
      },
      "outputs": [
        {
          "data": {
            "text/plain": [
              "list"
            ]
          },
          "execution_count": 17,
          "metadata": {},
          "output_type": "execute_result"
        }
      ],
      "source": [
        "type(lst)"
      ]
    },
    {
      "cell_type": "markdown",
      "metadata": {
        "id": "Qx1GiW6M8Zh2"
      },
      "source": [
        "### Append"
      ]
    },
    {
      "cell_type": "code",
      "execution_count": null,
      "metadata": {
        "id": "A9Lljabt8Zh3"
      },
      "outputs": [],
      "source": [
        "#.append is used to add elements in the list\n",
        "lst.append(\"Krish\")"
      ]
    },
    {
      "cell_type": "code",
      "execution_count": null,
      "metadata": {
        "id": "oyIoBKk58Zh3"
      },
      "outputs": [],
      "source": [
        "lst.append([\"John\",\"Bala\"])"
      ]
    },
    {
      "cell_type": "code",
      "execution_count": null,
      "metadata": {
        "id": "H7qvSpfE8Zh3",
        "outputId": "51d9bef7-faed-4abf-c6f0-bf6e7ba6645d"
      },
      "outputs": [
        {
          "data": {
            "text/plain": [
              "['Mathematics', 'chemistry', 100, 200, 300, 204, 'Krish', ['John', 'Bala']]"
            ]
          },
          "execution_count": 28,
          "metadata": {},
          "output_type": "execute_result"
        }
      ],
      "source": [
        "lst"
      ]
    },
    {
      "cell_type": "code",
      "execution_count": null,
      "metadata": {
        "id": "9MmeQSom8Zh3",
        "outputId": "008cd2bc-6879-401d-e6bb-8b6343eadc57"
      },
      "outputs": [
        {
          "data": {
            "text/plain": [
              "'Krish'"
            ]
          },
          "execution_count": 23,
          "metadata": {},
          "output_type": "execute_result"
        }
      ],
      "source": [
        "##Indexing in List\n",
        "lst[6]"
      ]
    },
    {
      "cell_type": "code",
      "execution_count": null,
      "metadata": {
        "id": "hhOvSKOp8Zh4",
        "outputId": "513391d7-1831-4792-9441-2bb0bc379c54"
      },
      "outputs": [
        {
          "data": {
            "text/plain": [
              "['chemistry', 100, 200, 300, 204]"
            ]
          },
          "execution_count": 26,
          "metadata": {},
          "output_type": "execute_result"
        }
      ],
      "source": [
        "lst[1:6]"
      ]
    },
    {
      "cell_type": "markdown",
      "metadata": {
        "id": "Y1r09ExB8Zh4"
      },
      "source": [
        "### Insert"
      ]
    },
    {
      "cell_type": "code",
      "execution_count": null,
      "metadata": {
        "id": "YtOPwWVU8Zh4"
      },
      "outputs": [],
      "source": [
        "## insert in a specific order\n",
        "\n",
        "lst.insert(2,\"Naik\")"
      ]
    },
    {
      "cell_type": "code",
      "execution_count": null,
      "metadata": {
        "id": "opilK5sm8Zh4",
        "outputId": "5c7af9c2-d661-4557-fe39-3014469ab03b"
      },
      "outputs": [
        {
          "data": {
            "text/plain": [
              "['Mathematics',\n",
              " 'chemistry',\n",
              " 'Naik',\n",
              " 100,\n",
              " 200,\n",
              " 300,\n",
              " 204,\n",
              " 'Krish',\n",
              " ['John', 'Bala']]"
            ]
          },
          "execution_count": 30,
          "metadata": {},
          "output_type": "execute_result"
        }
      ],
      "source": [
        "lst"
      ]
    },
    {
      "cell_type": "code",
      "execution_count": null,
      "metadata": {
        "id": "BNuh3DHN8Zh4"
      },
      "outputs": [],
      "source": [
        "lst.append([\"Hello\",\"World\"])"
      ]
    },
    {
      "cell_type": "code",
      "execution_count": null,
      "metadata": {
        "id": "f6qeIp6e8Zh5",
        "outputId": "45836db9-161e-44ad-b215-01102828a222"
      },
      "outputs": [
        {
          "data": {
            "text/plain": [
              "['Mathematics',\n",
              " 'chemistry',\n",
              " 'Naik',\n",
              " 100,\n",
              " 200,\n",
              " 300,\n",
              " 204,\n",
              " 'Krish',\n",
              " ['John', 'Bala'],\n",
              " ['Hello', 'World']]"
            ]
          },
          "execution_count": 32,
          "metadata": {},
          "output_type": "execute_result"
        }
      ],
      "source": [
        "lst"
      ]
    },
    {
      "cell_type": "code",
      "execution_count": null,
      "metadata": {
        "id": "mkPDE-2k8Zh5"
      },
      "outputs": [],
      "source": [
        "lst=[1,2,3]"
      ]
    },
    {
      "cell_type": "code",
      "execution_count": null,
      "metadata": {
        "id": "IFogPQTx8Zh5"
      },
      "outputs": [],
      "source": [
        "lst.append([4,5])"
      ]
    },
    {
      "cell_type": "code",
      "execution_count": null,
      "metadata": {
        "id": "lSAmgvR78Zh5",
        "outputId": "be017e1e-6db2-4e7a-bc7f-5ece599c3879"
      },
      "outputs": [
        {
          "data": {
            "text/plain": [
              "[1, 2, 3, [4, 5]]"
            ]
          },
          "execution_count": 32,
          "metadata": {},
          "output_type": "execute_result"
        }
      ],
      "source": [
        "lst"
      ]
    },
    {
      "cell_type": "markdown",
      "metadata": {
        "id": "e0RgRQ4g8Zh6"
      },
      "source": [
        "### Extend Method"
      ]
    },
    {
      "cell_type": "code",
      "execution_count": null,
      "metadata": {
        "id": "g0Mb1rCw8Zh7"
      },
      "outputs": [],
      "source": [
        "lst=[1,2,3,4,5,6]"
      ]
    },
    {
      "cell_type": "code",
      "execution_count": null,
      "metadata": {
        "id": "Yord89c18Zh7"
      },
      "outputs": [],
      "source": [
        "lst.extend([8,9])"
      ]
    },
    {
      "cell_type": "code",
      "execution_count": null,
      "metadata": {
        "id": "hLP8bIow8Zh7",
        "outputId": "ec060481-50fc-4113-efcc-96ab5dba9f90"
      },
      "outputs": [
        {
          "data": {
            "text/plain": [
              "[1, 2, 3, 4, 5, 6, 8, 9]"
            ]
          },
          "execution_count": 35,
          "metadata": {},
          "output_type": "execute_result"
        }
      ],
      "source": [
        "lst"
      ]
    },
    {
      "cell_type": "markdown",
      "metadata": {
        "id": "Ayxq-Gou8Zh7"
      },
      "source": [
        "### Various Operations that we can perform in List"
      ]
    },
    {
      "cell_type": "code",
      "execution_count": null,
      "metadata": {
        "id": "wVDJCXB18Zh7"
      },
      "outputs": [],
      "source": [
        "lst=[1,2,3,4,5]"
      ]
    },
    {
      "cell_type": "code",
      "execution_count": null,
      "metadata": {
        "id": "A0rV7-OW8Zh7",
        "outputId": "40643a1a-23ec-4366-f1bc-9f89f081f95c"
      },
      "outputs": [
        {
          "data": {
            "text/plain": [
              "15"
            ]
          },
          "execution_count": 42,
          "metadata": {},
          "output_type": "execute_result"
        }
      ],
      "source": [
        "sum(lst)"
      ]
    },
    {
      "cell_type": "code",
      "execution_count": null,
      "metadata": {
        "id": "brJNXCrr8Zh8",
        "outputId": "01c69b9c-d785-4203-e888-c286ca06b19e"
      },
      "outputs": [
        {
          "data": {
            "text/plain": [
              "[1, 2, 3, 4, 5, 1, 2, 3, 4, 5, 1, 2, 3, 4, 5, 1, 2, 3, 4, 5, 1, 2, 3, 4, 5]"
            ]
          },
          "execution_count": 48,
          "metadata": {},
          "output_type": "execute_result"
        }
      ],
      "source": [
        "lst*5"
      ]
    },
    {
      "cell_type": "markdown",
      "metadata": {
        "id": "SWCDThwK8Zh8"
      },
      "source": [
        "### Pop() Method"
      ]
    },
    {
      "cell_type": "code",
      "execution_count": null,
      "metadata": {
        "id": "RXp0zkNH8Zh8",
        "outputId": "fd5468c0-b71e-4b35-b125-877c45e5b0ba"
      },
      "outputs": [
        {
          "data": {
            "text/plain": [
              "5"
            ]
          },
          "execution_count": 37,
          "metadata": {},
          "output_type": "execute_result"
        }
      ],
      "source": [
        "lst.pop()"
      ]
    },
    {
      "cell_type": "code",
      "execution_count": null,
      "metadata": {
        "id": "yneNU9jk8Zh8",
        "outputId": "a563d7ec-03b7-4eca-eeed-4498ef267cb2"
      },
      "outputs": [
        {
          "data": {
            "text/plain": [
              "[1, 2, 3, 4]"
            ]
          },
          "execution_count": 38,
          "metadata": {},
          "output_type": "execute_result"
        }
      ],
      "source": [
        "lst"
      ]
    },
    {
      "cell_type": "code",
      "execution_count": null,
      "metadata": {
        "id": "vWQ1QJ_j8Zh8",
        "outputId": "0c87d140-e582-4ddd-8cb8-d01ab9738406"
      },
      "outputs": [
        {
          "data": {
            "text/plain": [
              "1"
            ]
          },
          "execution_count": 39,
          "metadata": {},
          "output_type": "execute_result"
        }
      ],
      "source": [
        "lst.pop(0)"
      ]
    },
    {
      "cell_type": "code",
      "execution_count": null,
      "metadata": {
        "id": "ZowG6cVV8Zh8",
        "outputId": "a3c27b4d-dbbb-4b6c-8d88-d0fa0d079dbc"
      },
      "outputs": [
        {
          "data": {
            "text/plain": [
              "[2, 3, 4]"
            ]
          },
          "execution_count": 40,
          "metadata": {},
          "output_type": "execute_result"
        }
      ],
      "source": [
        "lst"
      ]
    },
    {
      "cell_type": "markdown",
      "metadata": {
        "id": "T-cAWqLW8Zh9"
      },
      "source": [
        "### count():Calculates total occurrence of given element of List"
      ]
    },
    {
      "cell_type": "code",
      "execution_count": null,
      "metadata": {
        "id": "yDioLudt8Zh9",
        "outputId": "dab11b00-9d2a-4230-ba5b-0c010e94f01c"
      },
      "outputs": [
        {
          "data": {
            "text/plain": [
              "2"
            ]
          },
          "execution_count": 41,
          "metadata": {},
          "output_type": "execute_result"
        }
      ],
      "source": [
        "lst=[1,1,2,3,4,5]\n",
        "lst.count(1)"
      ]
    },
    {
      "cell_type": "code",
      "execution_count": null,
      "metadata": {
        "id": "XWkGbKhN8Zh9",
        "outputId": "63dc63dc-da2b-49b7-8167-94caee86533c"
      },
      "outputs": [
        {
          "data": {
            "text/plain": [
              "6"
            ]
          },
          "execution_count": 49,
          "metadata": {},
          "output_type": "execute_result"
        }
      ],
      "source": [
        "#length:Calculates total length of List\n",
        "len(lst)"
      ]
    },
    {
      "cell_type": "code",
      "execution_count": null,
      "metadata": {
        "id": "kftGyzVf8Zh-",
        "outputId": "4db697af-5073-41d3-aaaf-9919538f1623"
      },
      "outputs": [
        {
          "data": {
            "text/plain": [
              "1"
            ]
          },
          "execution_count": 44,
          "metadata": {},
          "output_type": "execute_result"
        }
      ],
      "source": [
        "# index(): Returns the index of first occurrence. Start and End index are not necessary parameters\n",
        "lst.index(1,1,4)"
      ]
    },
    {
      "cell_type": "code",
      "execution_count": null,
      "metadata": {
        "id": "eDvZPMRx8Zh-",
        "outputId": "f99849e6-455f-4243-ebbc-c883e422740a"
      },
      "outputs": [
        {
          "data": {
            "text/plain": [
              "1"
            ]
          },
          "execution_count": 45,
          "metadata": {},
          "output_type": "execute_result"
        }
      ],
      "source": [
        "##Min and Max\n",
        "min(lst)"
      ]
    },
    {
      "cell_type": "code",
      "execution_count": null,
      "metadata": {
        "id": "dgYyKE9C8Zh-",
        "outputId": "0473c1b9-497c-4926-9661-ad6dfcdd6317"
      },
      "outputs": [
        {
          "data": {
            "text/plain": [
              "5"
            ]
          },
          "execution_count": 57,
          "metadata": {},
          "output_type": "execute_result"
        }
      ],
      "source": [
        "max(lst)"
      ]
    },
    {
      "cell_type": "markdown",
      "metadata": {
        "id": "d1X2Al0A8Zh-"
      },
      "source": [
        "## SETS\n",
        "\n",
        "A Set is an unordered collection data type that is iterable, mutable, and has no duplicate elements. Python's set class represents the mathematical notion of a set.This is based on a data structure known as a hash table"
      ]
    },
    {
      "cell_type": "code",
      "execution_count": null,
      "metadata": {
        "id": "TTXAX4et8Zh_",
        "outputId": "df01fa02-e5bd-4895-f642-d320ed12f147"
      },
      "outputs": [
        {
          "name": "stdout",
          "output_type": "stream",
          "text": [
            "set()\n",
            "<class 'set'>\n"
          ]
        }
      ],
      "source": [
        "## Defining an empy set\n",
        "\n",
        "set_var= set()\n",
        "print(set_var)\n",
        "print(type(set_var))"
      ]
    },
    {
      "cell_type": "code",
      "execution_count": null,
      "metadata": {
        "id": "3REAWTre8Zh_"
      },
      "outputs": [],
      "source": [
        "set_var={1,2,3,4,3}"
      ]
    },
    {
      "cell_type": "code",
      "execution_count": null,
      "metadata": {
        "id": "F7ot6bOE8Zh_",
        "outputId": "b4930c90-8692-4417-a94f-4f2e550c36c8"
      },
      "outputs": [
        {
          "data": {
            "text/plain": [
              "{1, 2, 3, 4}"
            ]
          },
          "execution_count": 50,
          "metadata": {},
          "output_type": "execute_result"
        }
      ],
      "source": [
        "set_var"
      ]
    },
    {
      "cell_type": "code",
      "execution_count": null,
      "metadata": {
        "id": "HBs_u9828ZiA",
        "outputId": "80e9162d-11b9-45a1-af44-bd445e9fd11b"
      },
      "outputs": [
        {
          "name": "stdout",
          "output_type": "stream",
          "text": [
            "{'IronMan', 'Hitman', 'Avengers'}\n"
          ]
        },
        {
          "data": {
            "text/plain": [
              "set"
            ]
          },
          "execution_count": 55,
          "metadata": {},
          "output_type": "execute_result"
        }
      ],
      "source": [
        "set_var={\"Avengers\",\"IronMan\",'Hitman'}\n",
        "print(set_var)\n",
        "type(set_var)"
      ]
    },
    {
      "cell_type": "code",
      "execution_count": null,
      "metadata": {
        "id": "9MCQoXUZ8ZiA"
      },
      "outputs": [],
      "source": []
    },
    {
      "cell_type": "code",
      "execution_count": null,
      "metadata": {
        "id": "2iBghBUf8ZiA"
      },
      "outputs": [],
      "source": [
        "## Inbuilt function in sets\n",
        "\n",
        "set_var.add(\"Hulk\")\n"
      ]
    },
    {
      "cell_type": "code",
      "execution_count": null,
      "metadata": {
        "id": "hx1yryzl8ZiA"
      },
      "outputs": [],
      "source": [
        "."
      ]
    },
    {
      "cell_type": "code",
      "execution_count": null,
      "metadata": {
        "id": "XpM4mdgG8ZiB",
        "outputId": "4dd7b84b-a73e-4b55-a148-41dca3c39eed"
      },
      "outputs": [
        {
          "name": "stdout",
          "output_type": "stream",
          "text": [
            "{'IronMan', 'Hitman', 'Avengers', 'Hulk'}\n"
          ]
        }
      ],
      "source": [
        "print(set_var)"
      ]
    },
    {
      "cell_type": "code",
      "execution_count": null,
      "metadata": {
        "id": "PIM8bSD68ZiB"
      },
      "outputs": [],
      "source": [
        "set1={\"Avengers\",\"IronMan\",'Hitman'}\n",
        "set2={\"Avengers\",\"IronMan\",'Hitman','Hulk2'}"
      ]
    },
    {
      "cell_type": "code",
      "execution_count": null,
      "metadata": {
        "id": "-gn5ryzX8ZiB"
      },
      "outputs": [],
      "source": [
        "set2.intersection_update(set1)"
      ]
    },
    {
      "cell_type": "code",
      "execution_count": null,
      "metadata": {
        "id": "Xwg9Svdp8ZiB",
        "outputId": "bace257d-70a2-48b1-9f55-734cceefa87f"
      },
      "outputs": [
        {
          "data": {
            "text/plain": [
              "{'Avengers', 'Hitman', 'IronMan'}"
            ]
          },
          "execution_count": 66,
          "metadata": {},
          "output_type": "execute_result"
        }
      ],
      "source": [
        "set2"
      ]
    },
    {
      "cell_type": "code",
      "execution_count": null,
      "metadata": {
        "id": "J7LfdwYN8ZiC",
        "outputId": "4a161854-a676-4d10-ba39-1d06fddbf2c9"
      },
      "outputs": [
        {
          "data": {
            "text/plain": [
              "{'Hulk2'}"
            ]
          },
          "execution_count": 59,
          "metadata": {},
          "output_type": "execute_result"
        }
      ],
      "source": [
        "##Difference\n",
        "set2.difference(set1)"
      ]
    },
    {
      "cell_type": "code",
      "execution_count": null,
      "metadata": {
        "id": "sMMvAqWP8ZiC",
        "outputId": "48c77962-6889-4813-aa64-741f0f0ff125"
      },
      "outputs": [
        {
          "data": {
            "text/plain": [
              "{'Avengers', 'Hitman', 'Hulk2', 'IronMan'}"
            ]
          },
          "execution_count": 60,
          "metadata": {},
          "output_type": "execute_result"
        }
      ],
      "source": [
        "set2"
      ]
    },
    {
      "cell_type": "code",
      "execution_count": null,
      "metadata": {
        "id": "TckbKO0Z8ZiC"
      },
      "outputs": [],
      "source": [
        "## Difference update\n",
        "\n",
        "set2.difference_update(set1)"
      ]
    },
    {
      "cell_type": "code",
      "execution_count": null,
      "metadata": {
        "id": "VFu8nt-38ZiD",
        "outputId": "89908073-cbf4-4f53-886d-4a79508dcdc5"
      },
      "outputs": [
        {
          "name": "stdout",
          "output_type": "stream",
          "text": [
            "{'Hulk2'}\n"
          ]
        }
      ],
      "source": [
        "print(set2)"
      ]
    },
    {
      "cell_type": "markdown",
      "metadata": {
        "id": "oPi-Bwdk8ZiD"
      },
      "source": [
        "## Dictionaries\n",
        "\n",
        "A dictionary is a collection which is unordered, changeable and indexed. In Python dictionaries are written with curly brackets, and they have keys and values."
      ]
    },
    {
      "cell_type": "code",
      "execution_count": null,
      "metadata": {
        "id": "FvFk0ww58ZiD"
      },
      "outputs": [],
      "source": [
        "dic={}"
      ]
    },
    {
      "cell_type": "code",
      "execution_count": null,
      "metadata": {
        "id": "2dKVtNE18ZiD",
        "outputId": "b6577f05-f14c-45f4-96ef-eda5418c81e4"
      },
      "outputs": [
        {
          "data": {
            "text/plain": [
              "dict"
            ]
          },
          "execution_count": 60,
          "metadata": {},
          "output_type": "execute_result"
        }
      ],
      "source": [
        "type(dic)"
      ]
    },
    {
      "cell_type": "code",
      "execution_count": null,
      "metadata": {
        "id": "TCcKqp2n8ZiD",
        "outputId": "4b596eb5-458e-4bb6-b48f-ddbeda81d7c8"
      },
      "outputs": [
        {
          "data": {
            "text/plain": [
              "dict"
            ]
          },
          "execution_count": 70,
          "metadata": {},
          "output_type": "execute_result"
        }
      ],
      "source": [
        "type(dict())"
      ]
    },
    {
      "cell_type": "code",
      "execution_count": null,
      "metadata": {
        "id": "-Sc3K0n98ZiE"
      },
      "outputs": [],
      "source": [
        "set_ex={1,2,3,4,5}"
      ]
    },
    {
      "cell_type": "code",
      "execution_count": null,
      "metadata": {
        "id": "id2lpFNV8ZiE",
        "outputId": "b13d8e64-4781-4edd-f828-1a745f0182a4"
      },
      "outputs": [
        {
          "data": {
            "text/plain": [
              "set"
            ]
          },
          "execution_count": 69,
          "metadata": {},
          "output_type": "execute_result"
        }
      ],
      "source": [
        "type(set_ex)"
      ]
    },
    {
      "cell_type": "code",
      "execution_count": null,
      "metadata": {
        "id": "ylkcAxuX8ZiE"
      },
      "outputs": [],
      "source": [
        "## Let create a dictionary\n",
        "\n",
        "my_dict={\"Car1\": \"Audi\", \"Car2\":\"BMW\",\"Car3\":\"Mercidies Benz\"}"
      ]
    },
    {
      "cell_type": "code",
      "execution_count": null,
      "metadata": {
        "id": "hTM3b9Zy8ZiE",
        "outputId": "ef0eeb2b-f801-485f-e445-d767d60cdbe6"
      },
      "outputs": [
        {
          "data": {
            "text/plain": [
              "dict"
            ]
          },
          "execution_count": 64,
          "metadata": {},
          "output_type": "execute_result"
        }
      ],
      "source": [
        "type(my_dict)"
      ]
    },
    {
      "cell_type": "code",
      "execution_count": null,
      "metadata": {
        "id": "i1RQ29h68ZiE",
        "outputId": "16274d5d-f626-4c8c-e1f9-cee04adbcc94"
      },
      "outputs": [
        {
          "data": {
            "text/plain": [
              "'Audi'"
            ]
          },
          "execution_count": 73,
          "metadata": {},
          "output_type": "execute_result"
        }
      ],
      "source": [
        "##Access the item values based on keys\n",
        "\n",
        "my_dict['Car1']"
      ]
    },
    {
      "cell_type": "code",
      "execution_count": null,
      "metadata": {
        "id": "rkt5zdl_8ZiF",
        "outputId": "bc205f7d-f7cb-4ad9-f775-75b4d0f9dcb5"
      },
      "outputs": [
        {
          "name": "stdout",
          "output_type": "stream",
          "text": [
            "Car1\n",
            "Car2\n",
            "Car3\n"
          ]
        }
      ],
      "source": [
        "# We can even loop throught the dictionaries keys\n",
        "\n",
        "for x in my_dict:\n",
        "    print(x)"
      ]
    },
    {
      "cell_type": "code",
      "execution_count": null,
      "metadata": {
        "id": "KpltHfag8ZiF",
        "outputId": "40f29895-fa98-4dab-e93e-7ee7a12b0d32"
      },
      "outputs": [
        {
          "name": "stdout",
          "output_type": "stream",
          "text": [
            "Audi\n",
            "BMW\n",
            "Mercidies Benz\n"
          ]
        }
      ],
      "source": [
        "# We can even loop throught the dictionaries values\n",
        "\n",
        "for x in my_dict.values():\n",
        "    print(x)"
      ]
    },
    {
      "cell_type": "code",
      "execution_count": null,
      "metadata": {
        "id": "WN0p-sBa8ZiF",
        "outputId": "c55b340c-c7a7-4e87-edc4-1e27f42ce13b"
      },
      "outputs": [
        {
          "name": "stdout",
          "output_type": "stream",
          "text": [
            "('Car1', 'Audi')\n",
            "('Car2', 'BMW')\n",
            "('Car3', 'Mercidies Benz')\n"
          ]
        }
      ],
      "source": [
        "# We can also check both keys and values\n",
        "for x in my_dict.items():\n",
        "    print(x)"
      ]
    },
    {
      "cell_type": "code",
      "execution_count": null,
      "metadata": {
        "id": "ibmkPzWr8ZiF"
      },
      "outputs": [],
      "source": [
        "## Adding items in Dictionaries\n",
        "\n",
        "my_dict['car4']='Audi 2.0'"
      ]
    },
    {
      "cell_type": "code",
      "execution_count": null,
      "metadata": {
        "id": "alIo4QdP8ZiG",
        "outputId": "93f0152f-ccfc-4290-a231-3d1bd11c4d98"
      },
      "outputs": [
        {
          "data": {
            "text/plain": [
              "{'Car1': 'Audi', 'Car2': 'BMW', 'Car3': 'Mercidies Benz', 'car4': 'Audi 2.0'}"
            ]
          },
          "execution_count": 75,
          "metadata": {},
          "output_type": "execute_result"
        }
      ],
      "source": [
        "my_dict"
      ]
    },
    {
      "cell_type": "code",
      "execution_count": null,
      "metadata": {
        "id": "B30yw7nw8ZiG"
      },
      "outputs": [],
      "source": [
        "my_dict['Car1']='MAruti'"
      ]
    },
    {
      "cell_type": "code",
      "execution_count": null,
      "metadata": {
        "id": "0sf0-V4T8ZiG",
        "outputId": "1c1736a6-bca8-4c5c-b5de-732e128eedc2"
      },
      "outputs": [
        {
          "data": {
            "text/plain": [
              "{'Car1': 'MAruti', 'Car2': 'BMW', 'Car3': 'Mercidies Benz', 'car4': 'Audi 2.0'}"
            ]
          },
          "execution_count": 77,
          "metadata": {},
          "output_type": "execute_result"
        }
      ],
      "source": [
        "my_dict"
      ]
    },
    {
      "cell_type": "markdown",
      "metadata": {
        "id": "usLGdAt-8ZiH"
      },
      "source": [
        "### Nested Dictionary"
      ]
    },
    {
      "cell_type": "code",
      "execution_count": null,
      "metadata": {
        "id": "M8TDKtVv8ZiH"
      },
      "outputs": [],
      "source": [
        "car1_model={'Mercedes':1960}\n",
        "car2_model={'Audi':1970}\n",
        "car3_model={'Ambassador':1980}\n",
        "\n",
        "car_type={'car1':car1_model,'car2':car2_model,'car3':car3_model}"
      ]
    },
    {
      "cell_type": "code",
      "execution_count": null,
      "metadata": {
        "id": "f3C8BVKo8ZiI",
        "outputId": "1dcad337-e758-4420-b8eb-5a8fbd295b02"
      },
      "outputs": [
        {
          "name": "stdout",
          "output_type": "stream",
          "text": [
            "{'car1': {'Mercedes': 1960}, 'car2': {'Audi': 1970}, 'car3': {'Ambassador': 1980}}\n"
          ]
        }
      ],
      "source": [
        "print(car_type)"
      ]
    },
    {
      "cell_type": "code",
      "execution_count": null,
      "metadata": {
        "id": "9kdwut1b8ZiI",
        "outputId": "6677cb31-3b24-4a94-959e-ddea1a824815"
      },
      "outputs": [
        {
          "name": "stdout",
          "output_type": "stream",
          "text": [
            "{'Mercedes': 1960}\n"
          ]
        }
      ],
      "source": [
        "## Accessing the items in the dictionary\n",
        "\n",
        "print(car_type['car1'])"
      ]
    },
    {
      "cell_type": "code",
      "execution_count": null,
      "metadata": {
        "id": "HHzz9ozt8ZiI",
        "outputId": "d7b4857d-5ff5-4ee9-a016-8f625a764ea0"
      },
      "outputs": [
        {
          "name": "stdout",
          "output_type": "stream",
          "text": [
            "1960\n"
          ]
        }
      ],
      "source": [
        "print(car_type['car1']['Mercedes'])"
      ]
    },
    {
      "cell_type": "markdown",
      "metadata": {
        "id": "dVjbczaU8ZiI"
      },
      "source": [
        "## Tuples"
      ]
    },
    {
      "cell_type": "code",
      "execution_count": null,
      "metadata": {
        "id": "DQ7sqLEA8ZiI"
      },
      "outputs": [],
      "source": [
        "## create an empty Tuples\n",
        "\n",
        "my_tuple=tuple()"
      ]
    },
    {
      "cell_type": "code",
      "execution_count": null,
      "metadata": {
        "id": "3pYmMZuV8ZiI",
        "outputId": "a90f178f-a3f9-4ffc-a19e-b7aeb50b92d7"
      },
      "outputs": [
        {
          "data": {
            "text/plain": [
              "tuple"
            ]
          },
          "execution_count": 102,
          "metadata": {},
          "output_type": "execute_result"
        }
      ],
      "source": [
        "type(my_tuple)"
      ]
    },
    {
      "cell_type": "code",
      "execution_count": null,
      "metadata": {
        "id": "Q6r9bRPA8ZiJ"
      },
      "outputs": [],
      "source": [
        "my_tuple=()"
      ]
    },
    {
      "cell_type": "code",
      "execution_count": null,
      "metadata": {
        "id": "K59vikSV8ZiJ",
        "outputId": "f17bb833-a5ca-48d2-f3fb-cd6ebedb11a9"
      },
      "outputs": [
        {
          "data": {
            "text/plain": [
              "tuple"
            ]
          },
          "execution_count": 104,
          "metadata": {},
          "output_type": "execute_result"
        }
      ],
      "source": [
        "type(my_tuple)"
      ]
    },
    {
      "cell_type": "code",
      "execution_count": null,
      "metadata": {
        "id": "iDcAs4Ym8ZiK"
      },
      "outputs": [],
      "source": [
        "my_tuple=(\"Krish\",\"Ankur\",\"John\")"
      ]
    },
    {
      "cell_type": "code",
      "execution_count": null,
      "metadata": {
        "id": "JJBZ1ar08ZiK"
      },
      "outputs": [],
      "source": [
        "my_tuple=('Hello','World')"
      ]
    },
    {
      "cell_type": "code",
      "execution_count": null,
      "metadata": {
        "id": "zH0o8E2t8ZiK",
        "outputId": "ae8eb6a6-0569-495f-a229-bc37a8a4fd84"
      },
      "outputs": [
        {
          "name": "stdout",
          "output_type": "stream",
          "text": [
            "<class 'tuple'>\n",
            "('Hello', 'World')\n"
          ]
        }
      ],
      "source": [
        "print(type(my_tuple))\n",
        "print(my_tuple)"
      ]
    },
    {
      "cell_type": "code",
      "execution_count": null,
      "metadata": {
        "id": "I-Dzfr_a8ZiK",
        "outputId": "b99b5a46-1777-449e-9d17-d85f2f20ca01"
      },
      "outputs": [
        {
          "data": {
            "text/plain": [
              "tuple"
            ]
          },
          "execution_count": 107,
          "metadata": {},
          "output_type": "execute_result"
        }
      ],
      "source": [
        "type(my_tuple)"
      ]
    },
    {
      "cell_type": "code",
      "execution_count": null,
      "metadata": {
        "id": "4pkce0Pz8ZiK",
        "outputId": "a559fa10-586c-43ff-f563-fe6f3b020c62"
      },
      "outputs": [
        {
          "data": {
            "text/plain": [
              "1"
            ]
          },
          "execution_count": 110,
          "metadata": {},
          "output_type": "execute_result"
        }
      ],
      "source": [
        "## Inbuilt function\n",
        "my_tuple.count('Krish')"
      ]
    },
    {
      "cell_type": "code",
      "execution_count": null,
      "metadata": {
        "id": "e5BzKtYk8ZiK",
        "outputId": "a1e34b0a-0ddf-48f1-b7cc-b8bded773c41"
      },
      "outputs": [
        {
          "data": {
            "text/plain": [
              "1"
            ]
          },
          "execution_count": 117,
          "metadata": {},
          "output_type": "execute_result"
        }
      ],
      "source": [
        "my_tuple.index('Ankur')"
      ]
    },
    {
      "cell_type": "code",
      "execution_count": null,
      "metadata": {
        "id": "vRlqY3Zw8ZiL"
      },
      "outputs": [],
      "source": []
    }
  ],
  "metadata": {
    "kernelspec": {
      "display_name": "Python 3",
      "language": "python",
      "name": "python3"
    },
    "language_info": {
      "codemirror_mode": {
        "name": "ipython",
        "version": 3
      },
      "file_extension": ".py",
      "mimetype": "text/x-python",
      "name": "python",
      "nbconvert_exporter": "python",
      "pygments_lexer": "ipython3",
      "version": "3.6.7"
    },
    "colab": {
      "provenance": [],
      "include_colab_link": true
    }
  },
  "nbformat": 4,
  "nbformat_minor": 0
}