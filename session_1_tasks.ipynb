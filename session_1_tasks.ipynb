{
  "nbformat": 4,
  "nbformat_minor": 0,
  "metadata": {
    "colab": {
      "provenance": [],
      "include_colab_link": true
    },
    "kernelspec": {
      "name": "python3",
      "display_name": "Python 3"
    },
    "language_info": {
      "name": "python"
    }
  },
  "cells": [
    {
      "cell_type": "markdown",
      "metadata": {
        "id": "view-in-github",
        "colab_type": "text"
      },
      "source": [
        "<a href=\"https://colab.research.google.com/github/mayu99/Python-/blob/main/session_1_tasks.ipynb\" target=\"_parent\"><img src=\"https://colab.research.google.com/assets/colab-badge.svg\" alt=\"Open In Colab\"/></a>"
      ]
    },
    {
      "cell_type": "markdown",
      "source": [
        "# Task : Session 1\n",
        "Solve these questions own your own and try to test yourself what you have learned in the session.\n",
        "\n",
        "Happy Learning!"
      ],
      "metadata": {
        "id": "A05OG15VqOPF"
      }
    },
    {
      "cell_type": "markdown",
      "source": [
        "### Q1 :- Print the given strings as per stated format.\n",
        "\n",
        "**Given strings**:\n",
        "```\n",
        "\"Data\" \"Science\" \"Mentorship\" \"Program\"\n",
        "\"By\" \"CampusX\"\n",
        "```\n",
        "**Output**:\n",
        "```\n",
        "Data-Science-Mentorship-Program-started-By-CampusX\n",
        "```\n",
        "\n",
        "Concept- [Seperator and End]"
      ],
      "metadata": {
        "id": "2doIXf8bqe9_"
      }
    },
    {
      "cell_type": "code",
      "source": [
        "# Write your code here\n",
        "print(\"Data\",\"Science\", \"Mentorship\", \"Program\",\"By\", \"CampusX\", sep = \"-\")"
      ],
      "metadata": {
        "id": "-em6d3KErDtp",
        "colab": {
          "base_uri": "https://localhost:8080/"
        },
        "outputId": "9da5ebcb-4b63-4a8f-85c3-2031325361e0"
      },
      "execution_count": null,
      "outputs": [
        {
          "output_type": "stream",
          "name": "stdout",
          "text": [
            "Data-Science-Mentorship-Program-By-CampusX\n"
          ]
        }
      ]
    },
    {
      "cell_type": "markdown",
      "source": [
        "### Q2:- Write a program that will convert celsius value to fahrenheit."
      ],
      "metadata": {
        "id": "1KUpN7ZTrC3_"
      }
    },
    {
      "cell_type": "code",
      "source": [
        "# Write your code here\n",
        "cel = int(input(\"Enter temp in celsuis:- \"))\n",
        "fah = (cel * 9/5)+32\n",
        "print(\"Temp in fahrenheit: -\", fah)"
      ],
      "metadata": {
        "id": "yxKYhYQiqWfj",
        "colab": {
          "base_uri": "https://localhost:8080/"
        },
        "outputId": "946e6400-53bb-4bee-d55f-6fd3b124303f"
      },
      "execution_count": null,
      "outputs": [
        {
          "output_type": "stream",
          "name": "stdout",
          "text": [
            "Enter temp in celsuis:- 2\n",
            "Temp in fahrenheit: - 35.6\n"
          ]
        }
      ]
    },
    {
      "cell_type": "markdown",
      "source": [
        "### Q3:- Take 2 numbers as input from the user.Write a program to swap the numbers without using any special python syntax."
      ],
      "metadata": {
        "id": "RLrOBBJurLB2"
      }
    },
    {
      "cell_type": "code",
      "source": [
        "# Write your code here\n",
        "num1 = int(input(\"Enter num1 -\"))\n",
        "num2 = int(input(\"Enter num2:-\"))\n",
        "temp = num2\n",
        "num2 = num1\n",
        "num1 = temp\n",
        "print(num1)\n",
        "print(num2)"
      ],
      "metadata": {
        "id": "yPn7if0TrJ4F",
        "colab": {
          "base_uri": "https://localhost:8080/"
        },
        "outputId": "32f450f3-04e0-4836-964c-2fabdc6d77f6"
      },
      "execution_count": null,
      "outputs": [
        {
          "output_type": "stream",
          "name": "stdout",
          "text": [
            "Enter num1 -11\n",
            "Enter num2:-22\n",
            "22\n",
            "11\n"
          ]
        }
      ]
    },
    {
      "cell_type": "markdown",
      "source": [
        "### Q4:- Write a program to find the euclidean distance between two coordinates.Take both the coordinates from the user as input."
      ],
      "metadata": {
        "id": "waLCP1bjr7ML"
      }
    },
    {
      "cell_type": "code",
      "source": [
        "# Write your code here\n",
        "x1 = int(input(\"Enter x1 -\"))\n",
        "x2 = int(input(\"Enter x2:-\"))\n",
        "y1 = int(input(\"Enter y1 -\"))\n",
        "y2 = int(input(\"Enter y2:-\"))\n",
        "\n",
        "dist = ((x2 - x1)**2 +(y2 - y1)**2)**0.5\n",
        "\n",
        "print(dist)\n"
      ],
      "metadata": {
        "id": "Pl1Sv-xnrxnH",
        "colab": {
          "base_uri": "https://localhost:8080/"
        },
        "outputId": "9f25c03f-9117-4a6e-b2b0-9ab0ccd4fcbb"
      },
      "execution_count": null,
      "outputs": [
        {
          "output_type": "stream",
          "name": "stdout",
          "text": [
            "Enter x1 -3\n",
            "Enter x2:-4\n",
            "Enter y1 -4\n",
            "Enter y2:-3\n",
            "1.4142135623730951\n"
          ]
        }
      ]
    },
    {
      "cell_type": "markdown",
      "source": [
        "### Q5:- Write a program to find the simple interest when the value of principle,rate of interest and time period is provided by the user.\n"
      ],
      "metadata": {
        "id": "VLrhg-FRsHjR"
      }
    },
    {
      "cell_type": "code",
      "source": [
        "# Write your code here\n",
        "P = int(input(\"Enter P -\"))\n",
        "N = int(input(\"Enter N:-\"))\n",
        "R = int(input(\"Enter R -\"))\n",
        "\n",
        "SI = P*N*R/100\n",
        "\n",
        "print(int(SI))"
      ],
      "metadata": {
        "id": "s40DlReZsTmY",
        "colab": {
          "base_uri": "https://localhost:8080/"
        },
        "outputId": "081c9203-fbd6-49e0-dac5-51d22ee4a118"
      },
      "execution_count": null,
      "outputs": [
        {
          "output_type": "stream",
          "name": "stdout",
          "text": [
            "Enter P -100\n",
            "Enter N:-2\n",
            "Enter R -3\n",
            "6\n"
          ]
        }
      ]
    },
    {
      "cell_type": "markdown",
      "source": [
        "### Q6:- Write a program that will tell the number of dogs and chicken are there when the user will provide the value of total heads and legs.\n",
        "\n",
        "For example:\n",
        "Input:\n",
        "heads -> 4\n",
        "legs -> 12\n",
        "<br>\n",
        "Output:\n",
        "dogs -> 2\n",
        "chicken -> 2\n",
        "\n",
        "\n",
        "\n"
      ],
      "metadata": {
        "id": "LMy0BTUktYKa"
      }
    },
    {
      "cell_type": "code",
      "source": [
        "# Write your code here\n",
        "heads = int(input(\"Enter heads:- \"))\n",
        "legs = int(input(\"Enter legs:- \"))\n",
        "\n",
        "dogs = (legs - 2 * heads) // 2\n",
        "chickens = heads - dogs\n",
        "\n",
        "# Print the results.\n",
        "print(\"There are\", dogs, \"dogs and\", chickens, \"chickens.\")"
      ],
      "metadata": {
        "id": "XSBvJoA4tXaG",
        "colab": {
          "base_uri": "https://localhost:8080/"
        },
        "outputId": "7dc97c86-ddcf-47cc-ca2e-e5b94a0c1d27"
      },
      "execution_count": 1,
      "outputs": [
        {
          "output_type": "stream",
          "name": "stdout",
          "text": [
            "Enter heads:- 4\n",
            "Enter legs:- 12\n",
            "There are 2 dogs and 2 chickens.\n"
          ]
        }
      ]
    },
    {
      "cell_type": "markdown",
      "source": [
        "### Q7:- Write a program to find the sum of squares of first n natural numbers where n will be provided by the user."
      ],
      "metadata": {
        "id": "gJ7C5kZYt4BP"
      }
    },
    {
      "cell_type": "code",
      "source": [
        "# Write your code here\n",
        "num = int(input(\"Enter number:-\"))\n",
        "total = 0\n",
        "for i in range(num+1):\n",
        "  sq = i*i\n",
        "  total = total + sq\n",
        "print(total)"
      ],
      "metadata": {
        "id": "_tHsmEHzt2nX",
        "colab": {
          "base_uri": "https://localhost:8080/"
        },
        "outputId": "9c0ca053-6eed-4093-dcc1-d4cf4fc4bae2"
      },
      "execution_count": 3,
      "outputs": [
        {
          "output_type": "stream",
          "name": "stdout",
          "text": [
            "Enter number:-3\n",
            "14\n"
          ]
        }
      ]
    },
    {
      "cell_type": "markdown",
      "source": [
        "### Q8:- Given the first 2 terms of an Arithmetic Series.Find the Nth term of the series. Assume all inputs are provided by the user."
      ],
      "metadata": {
        "id": "FHrMM7g-yG1h"
      }
    },
    {
      "cell_type": "code",
      "source": [
        "# Write your code here\n",
        "first = int(input(\"Enter num:- \"))\n",
        "second = int(input(\"Enter num2:- \"))\n",
        "d = second - first\n",
        "n = int(input(\"Enter nth term:- \"))\n",
        "\n",
        "An = first + (n-1)*d\n",
        "\n",
        "print(An)"
      ],
      "metadata": {
        "id": "go4_kmZmyVSx",
        "colab": {
          "base_uri": "https://localhost:8080/"
        },
        "outputId": "c900af69-c4e6-409a-ff82-cecdcfaf2e2c"
      },
      "execution_count": 4,
      "outputs": [
        {
          "output_type": "stream",
          "name": "stdout",
          "text": [
            "Enter num:- 2\n",
            "Enter num2:- 4\n",
            "Enter nth term:- 10\n",
            "20\n"
          ]
        }
      ]
    },
    {
      "cell_type": "markdown",
      "source": [
        "### Q9:- Given 2 fractions, find the sum of those 2 fractions.Take the numerator and denominator values of the fractions from the user."
      ],
      "metadata": {
        "id": "QgyRX_es1oum"
      }
    },
    {
      "cell_type": "code",
      "source": [
        "# Write your code here\n",
        "num1 = int(input(\"Enter num1:-\"))\n",
        "den1 = int(input(\"Enter den:- \"))\n",
        "num2 = int(input(\"Enter num2:-\"))\n",
        "den2 = int(input(\"Enter den2:-\"))\n",
        "\n",
        "Final = (num1/den1) + (num2/den2)\n",
        "\n",
        "print(Final)\n"
      ],
      "metadata": {
        "id": "X05xqFS1yW16",
        "colab": {
          "base_uri": "https://localhost:8080/"
        },
        "outputId": "2fafded4-357c-452b-80ed-01de8a2afb5d"
      },
      "execution_count": 8,
      "outputs": [
        {
          "output_type": "stream",
          "name": "stdout",
          "text": [
            "Enter num1:-2\n",
            "Enter den:- 3\n",
            "Enter num2:-4\n",
            "Enter den2:-5\n",
            "1.4666666666666668\n"
          ]
        }
      ]
    },
    {
      "cell_type": "markdown",
      "source": [
        "### Q10:- Given the height, width and breadth of a milk tank, you have to find out how many glasses of milk can be obtained? Assume all the inputs are provided by the user.\n",
        "\n",
        "\n",
        "\n",
        "Input:<br>\n",
        "Dimensions of the milk tank<br>\n",
        "H = 20cm, L = 20cm, B = 20cm\n",
        "<br><br>\n",
        "Dimensions of the glass<br>\n",
        "h = 3cm, r = 1cm"
      ],
      "metadata": {
        "id": "eaql38ln13u7"
      }
    },
    {
      "cell_type": "code",
      "source": [
        "# Write your code here\n",
        "heigth = float(input(\"Enter height:- \"))\n",
        "length = float(input(\"Enter length:- \"))\n",
        "breadth = float(input(\"Enter breadth:- \"))\n",
        "Tank_vol = heigth * length * breadth\n",
        "\n",
        "glass_h = float(input(\"Enter heigth:- \"))\n",
        "rad = float(input(\"Enter rad:- \"))\n",
        "Glass_vol = 3.14 * rad**2 * glass_h\n",
        "\n",
        "num = Tank_vol/Glass_vol\n",
        "\n",
        "print(num)"
      ],
      "metadata": {
        "id": "FePZqno74eWv",
        "colab": {
          "base_uri": "https://localhost:8080/"
        },
        "outputId": "7e488a86-16c7-4a29-e9d5-fa6bc8222f0d"
      },
      "execution_count": 10,
      "outputs": [
        {
          "output_type": "stream",
          "name": "stdout",
          "text": [
            "Enter height:- 2\n",
            "Enter length:- 3\n",
            "Enter breadth:- 4\n",
            "Enter heigth:- 2\n",
            "Enter rad:- 3\n",
            "0.4246284501061571\n"
          ]
        }
      ]
    },
    {
      "cell_type": "code",
      "source": [
        "units = input(\"Enter the units of measurement (e.g., cm, inches): \")\n",
        "\n",
        "tank_height = float(input(\"Enter height of tank (in \" + units + \"): \"))\n",
        "tank_length = float(input(\"Enter length of tank (in \" + units + \"): \"))\n",
        "tank_breadth = float(input(\"Enter breadth of tank (in \" + units + \"): \"))\n",
        "tank_volume = tank_height * tank_length * tank_breadth\n",
        "\n",
        "glass_height = float(input(\"Enter height of glass (in \" + units + \"): \"))\n",
        "glass_radius = float(input(\"Enter radius of glass (in \" + units + \"): \"))\n",
        "glass_volume = 3.14159 * glass_radius**2 * glass_height\n",
        "\n",
        "num_glasses = tank_volume / glass_volume\n",
        "\n",
        "print(f\"You can fill approximately {num_glasses:.2f} glasses of milk from the tank.\")\n",
        "print(\"You might be able to partially fill an additional glass.\")\n"
      ],
      "metadata": {
        "colab": {
          "base_uri": "https://localhost:8080/"
        },
        "id": "92xvO8zViI5m",
        "outputId": "3ecf04ff-c060-42dd-e959-3637909c97b2"
      },
      "execution_count": 11,
      "outputs": [
        {
          "output_type": "stream",
          "name": "stdout",
          "text": [
            "Enter the units of measurement (e.g., cm, inches): cm\n",
            "Enter height of tank (in cm): 22\n",
            "Enter length of tank (in cm): 33\n",
            "Enter breadth of tank (in cm): 44\n",
            "Enter height of glass (in cm): 21\n",
            "Enter radius of glass (in cm): 5\n",
            "You can fill approximately 19.37 glasses of milk from the tank.\n",
            "You might be able to partially fill an additional glass.\n"
          ]
        }
      ]
    }
  ]
}