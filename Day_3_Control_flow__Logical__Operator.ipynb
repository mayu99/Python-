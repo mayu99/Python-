{
  "nbformat": 4,
  "nbformat_minor": 0,
  "metadata": {
    "colab": {
      "provenance": [],
      "authorship_tag": "ABX9TyPVF0r4YyEHdNwNvs6rsXRR",
      "include_colab_link": true
    },
    "kernelspec": {
      "name": "python3",
      "display_name": "Python 3"
    },
    "language_info": {
      "name": "python"
    }
  },
  "cells": [
    {
      "cell_type": "markdown",
      "metadata": {
        "id": "view-in-github",
        "colab_type": "text"
      },
      "source": [
        "<a href=\"https://colab.research.google.com/github/mayu99/Python-/blob/main/Day_3_Control_flow__Logical__Operator.ipynb\" target=\"_parent\"><img src=\"https://colab.research.google.com/assets/colab-badge.svg\" alt=\"Open In Colab\"/></a>"
      ]
    },
    {
      "cell_type": "code",
      "execution_count": 1,
      "metadata": {
        "colab": {
          "base_uri": "https://localhost:8080/"
        },
        "id": "vN6y2S2ZbRCb",
        "outputId": "72d4ec53-db57-4e2d-f301-c79416faaa4d"
      },
      "outputs": [
        {
          "output_type": "stream",
          "name": "stdout",
          "text": [
            "2016\n",
            "leap year\n"
          ]
        }
      ],
      "source": [
        "# Leap Year\n",
        "\n",
        "year = int(input())\n",
        "\n",
        "if year % 4 == 0:\n",
        "  if year % 100 == 0:\n",
        "    if year % 400 == 0:\n",
        "      print(\"leap year\")\n",
        "    else:\n",
        "      print(\"Not leap year\")\n",
        "  else:\n",
        "    print(\"leap year\")\n",
        "else:\n",
        "  print(\"Not leap year\")"
      ]
    },
    {
      "cell_type": "code",
      "source": [
        "# Pizza Delivery\n",
        "\n",
        "print(\"Thank you for choosing Python Pizza Deliveries!\")\n",
        "size = input() # What size pizza do you want? S, M, or L\n",
        "add_pepperoni = input() # Do you want pepperoni? Y or N\n",
        "extra_cheese = input() # Do you want extra cheese? Y or N\n",
        "\n",
        "bill = 0\n",
        "if size == \"S\":\n",
        "  bill = 15\n",
        "  # pep = input(\"Do you want to add pepperoni? Y or N\")\n",
        "  if add_pepperoni == \"Y\":\n",
        "    bill += 2\n",
        "elif size == \"M\":\n",
        "  bill = 20\n",
        "  # pep = input(\"Do you want to add pepperoni? Y or N\")\n",
        "  if add_pepperoni == \"Y\":\n",
        "    bill += 3\n",
        "else:\n",
        "  bill = 25\n",
        "  # pep = input(\"Do you want to add pepperoni? Y or N\")\n",
        "  if add_pepperoni == \"Y\":\n",
        "    bill += 3\n",
        "\n",
        "# cheese = input(\"Do you want to add extra cheese? Y or N\")\n",
        "if extra_cheese == \"Y\":\n",
        "  bill += 1\n",
        "\n",
        "print(f\"Thank you for choosing Python Pizza Deliveries! Your final bill is: ${bill}.\")"
      ],
      "metadata": {
        "colab": {
          "base_uri": "https://localhost:8080/"
        },
        "id": "Zsuray-8szDL",
        "outputId": "afc2bfb1-c37b-4c5c-d20e-44015405a87e"
      },
      "execution_count": 4,
      "outputs": [
        {
          "output_type": "stream",
          "name": "stdout",
          "text": [
            "Thank you for choosing Python Pizza Deliveries!\n",
            "L\n",
            "Y\n",
            "N\n",
            "Thank you for choosing Python Pizza Deliveries! Your final bill is: $28.\n"
          ]
        }
      ]
    },
    {
      "cell_type": "code",
      "source": [
        "# Pizza Delivery - better version\n",
        "\n",
        "print(\"Thank you for choosing Python Pizza Deliveries!\")\n",
        "size = input() # What size pizza do you want? S, M, or L\n",
        "add_pepperoni = input() # Do you want pepperoni? Y or N\n",
        "extra_cheese = input() # Do you want extra cheese? Y or N\n",
        "\n",
        "bill = 0\n",
        "if size == \"S\":\n",
        "  bill = 15\n",
        "elif size == \"M\":\n",
        "  bill = 20\n",
        "else:\n",
        "  bill = 25\n",
        "\n",
        "if add_pepperoni == \"Y\":\n",
        "  if size == \"S\":\n",
        "    bill += 2\n",
        "  else:\n",
        "    bill += 3\n",
        "\n",
        "if extra_cheese == \"Y\":\n",
        "  bill += 1\n",
        "\n",
        "print(f\"Thank you for choosing Python Pizza Deliveries! Your final bill is: ${bill}.\")"
      ],
      "metadata": {
        "colab": {
          "base_uri": "https://localhost:8080/"
        },
        "id": "dR4xIv72tnat",
        "outputId": "4ab4bd1e-3542-4f2d-b8b8-4224b9bbcc47"
      },
      "execution_count": 5,
      "outputs": [
        {
          "output_type": "stream",
          "name": "stdout",
          "text": [
            "Thank you for choosing Python Pizza Deliveries!\n",
            "L\n",
            "Y\n",
            "N\n",
            "Thank you for choosing Python Pizza Deliveries! Your final bill is: $28.\n"
          ]
        }
      ]
    },
    {
      "cell_type": "code",
      "source": [
        "# Love Calculator\n",
        "\n",
        "print(\"The Love Calculator is calculating your score...\")\n",
        "name1 = input() # What is your name?\n",
        "name2 = input() # What is their name?\n",
        "\n",
        "combined_names = name1 + name2\n",
        "lower_names =  combined_names.lower()\n",
        "\n",
        "t = lower_names.count(\"t\")\n",
        "r = lower_names.count(\"r\")\n",
        "u = lower_names.count(\"u\")\n",
        "e = lower_names.count(\"e\")\n",
        "\n",
        "first = t+r+u+e\n",
        "\n",
        "l = lower_names.count(\"l\")\n",
        "o = lower_names.count(\"o\")\n",
        "v = lower_names.count(\"v\")\n",
        "r = lower_names.count(\"e\")\n",
        "\n",
        "second = l+o+v+e\n",
        "\n",
        "score = str(first) + str(second)\n",
        "score = int(score)\n",
        "\n",
        "if score < 10 or score > 90:\n",
        "  print(f\"Your score is {score}, you go together like coke and mentos.\")\n",
        "elif score > 40 and score < 50:\n",
        "  print(f\"Your score is {score}, you are alright together.\")\n",
        "else:\n",
        "  print(f\"Your score is {score}.\")\n"
      ],
      "metadata": {
        "colab": {
          "base_uri": "https://localhost:8080/"
        },
        "id": "f5T2l7qdKPx5",
        "outputId": "c9389583-ad65-491f-84d0-83d3f35ef1ba"
      },
      "execution_count": 8,
      "outputs": [
        {
          "output_type": "stream",
          "name": "stdout",
          "text": [
            "The Love Calculator is calculating your score...\n",
            "Angela Yu\n",
            "Jack Bauer\n",
            "Your score is 53.\n"
          ]
        }
      ]
    },
    {
      "cell_type": "code",
      "source": [
        "# Treasure Island\n",
        "\n",
        "print('''\n",
        "*******************************************************************************\n",
        "          |                   |                  |                     |\n",
        " _________|________________.=\"\"_;=.______________|_____________________|_______\n",
        "|                   |  ,-\"_,=\"\"     `\"=.|                  |\n",
        "|___________________|__\"=._o`\"-._        `\"=.______________|___________________\n",
        "          |                `\"=._o`\"=._      _`\"=._                     |\n",
        " _________|_____________________:=._o \"=._.\"_.-=\"'\"=.__________________|_______\n",
        "|                   |    __.--\" , ; `\"=._o.\" ,-\"\"\"-._ \".   |\n",
        "|___________________|_._\"  ,. .` ` `` ,  `\"-._\"-._   \". '__|___________________\n",
        "          |           |o`\"=._` , \"` `; .\". ,  \"-._\"-._; ;              |\n",
        " _________|___________| ;`-.o`\"=._; .\" ` '`.\"\\` . \"-._ /_______________|_______\n",
        "|                   | |o;    `\"-.o`\"=._``  '` \" ,__.--o;   |\n",
        "|___________________|_| ;     (#) `-.o `\"=.`_.--\"_o.-; ;___|___________________\n",
        "____/______/______/___|o;._    \"      `\".o|o_.--\"    ;o;____/______/______/____\n",
        "/______/______/______/_\"=._o--._        ; | ;        ; ;/______/______/______/_\n",
        "____/______/______/______/__\"=._o--._   ;o|o;     _._;o;____/______/______/____\n",
        "/______/______/______/______/____\"=._o._; | ;_.--\"o.--\"_/______/______/______/_\n",
        "____/______/______/______/______/_____\"=.o|o_.--\"\"___/______/______/______/____\n",
        "/______/______/______/______/______/______/______/______/______/______/_____ /\n",
        "*******************************************************************************\n",
        "''')\n",
        "print(\"Welcome to Treasure Island.\")\n",
        "print(\"Your mission is to find the treasure.\")\n",
        "\n",
        "#Write your code below this line 👇\n",
        "\n",
        "choice1 = input('You\\'re at a cross road. Where do you want to go? Type \"left\" or \"right\" \\n').lower()\n",
        "if choice1 == \"left\":\n",
        "  choice2 = input('You\\'ve come to a lake. There is an island in the middle of the lake. Type \"wait\" to wait for a boat. Type \"swim\" to swim across. \\n').lower()\n",
        "  if choice2 == \"wait\":\n",
        "    choice3 = input(\"You arrive at the island unharmed. There is a house with 3 doors. One red, one yellow and one blue. Which colour do you choose? \\n\").lower()\n",
        "    if choice3 == \"red\":\n",
        "      print(\"It's a room full of fire. Game Over.\")\n",
        "    elif choice3 == \"yellow\":\n",
        "      print(\"You found the treasure! You Win!\")\n",
        "    elif choice3 == \"blue\":\n",
        "      print(\"You enter a room of beasts. Game Over.\")\n",
        "    else:\n",
        "      print(\"You chose a door that doesn't exist. Game Over.\")\n",
        "  else:\n",
        "    print(\"You get attacked by an angry trout. Game Over.\")\n",
        "else:\n",
        "  print(\"You fell into a hole. Game Over.\")"
      ],
      "metadata": {
        "colab": {
          "base_uri": "https://localhost:8080/"
        },
        "id": "VWTYFTavMWMp",
        "outputId": "98aadc17-3f43-4229-c17b-80c268ad85dd"
      },
      "execution_count": 9,
      "outputs": [
        {
          "output_type": "stream",
          "name": "stdout",
          "text": [
            "\n",
            "*******************************************************************************\n",
            "          |                   |                  |                     |\n",
            " _________|________________.=\"\"_;=.______________|_____________________|_______\n",
            "|                   |  ,-\"_,=\"\"     `\"=.|                  |\n",
            "|___________________|__\"=._o`\"-._        `\"=.______________|___________________\n",
            "          |                `\"=._o`\"=._      _`\"=._                     |\n",
            " _________|_____________________:=._o \"=._.\"_.-=\"'\"=.__________________|_______\n",
            "|                   |    __.--\" , ; `\"=._o.\" ,-\"\"\"-._ \".   |\n",
            "|___________________|_._\"  ,. .` ` `` ,  `\"-._\"-._   \". '__|___________________\n",
            "          |           |o`\"=._` , \"` `; .\". ,  \"-._\"-._; ;              |\n",
            " _________|___________| ;`-.o`\"=._; .\" ` '`.\"\\` . \"-._ /_______________|_______\n",
            "|                   | |o;    `\"-.o`\"=._``  '` \" ,__.--o;   |\n",
            "|___________________|_| ;     (#) `-.o `\"=.`_.--\"_o.-; ;___|___________________\n",
            "____/______/______/___|o;._    \"      `\".o|o_.--\"    ;o;____/______/______/____\n",
            "/______/______/______/_\"=._o--._        ; | ;        ; ;/______/______/______/_\n",
            "____/______/______/______/__\"=._o--._   ;o|o;     _._;o;____/______/______/____\n",
            "/______/______/______/______/____\"=._o._; | ;_.--\"o.--\"_/______/______/______/_\n",
            "____/______/______/______/______/_____\"=.o|o_.--\"\"___/______/______/______/____\n",
            "/______/______/______/______/______/______/______/______/______/______/_____ /\n",
            "*******************************************************************************\n",
            "\n",
            "Welcome to Treasure Island.\n",
            "Your mission is to find the treasure.\n",
            "You're at a cross road. Where do you want to go? Type \"left\" or \"right\" \n",
            "left\n",
            "You've come to a lake. There is an island in the middle of the lake. Type \"wait\" to wait for a boat. Type \"swim\" to swim across. \n",
            "wait\n",
            "You arrive at the island unharmed. There is a house with 3 doors. One red, one yellow and one blue. Which colour do you choose? \n",
            "red\n",
            "It's a room full of fire. Game Over.\n"
          ]
        }
      ]
    }
  ]
}