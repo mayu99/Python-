{
  "nbformat": 4,
  "nbformat_minor": 0,
  "metadata": {
    "colab": {
      "provenance": [],
      "include_colab_link": true
    },
    "kernelspec": {
      "name": "python3",
      "display_name": "Python 3"
    },
    "language_info": {
      "name": "python"
    }
  },
  "cells": [
    {
      "cell_type": "markdown",
      "metadata": {
        "id": "view-in-github",
        "colab_type": "text"
      },
      "source": [
        "<a href=\"https://colab.research.google.com/github/mayu99/Python-/blob/main/Kaggle_Datasets.ipynb\" target=\"_parent\"><img src=\"https://colab.research.google.com/assets/colab-badge.svg\" alt=\"Open In Colab\"/></a>"
      ]
    },
    {
      "cell_type": "markdown",
      "source": [
        "---\n",
        "# <center>**Downloading Kaggle Datasets**</center>\n",
        "---"
      ],
      "metadata": {
        "id": "vqjt-rpmXaMR"
      }
    },
    {
      "cell_type": "code",
      "source": [
        "# https://insaid.medium.com/how-to-access-datasets-directly-from-kaggle-6a3552ea891c"
      ],
      "metadata": {
        "id": "6eUv2INb5yea"
      },
      "execution_count": null,
      "outputs": []
    },
    {
      "cell_type": "markdown",
      "source": [
        "---\n",
        "## **Importing relevant libraries**\n",
        "---"
      ],
      "metadata": {
        "id": "-6GFT7Q0TA2y"
      }
    },
    {
      "cell_type": "code",
      "source": [
        "from google.colab import drive\n",
        "import pandas as pd"
      ],
      "metadata": {
        "id": "lcnUo5UuS-Ji"
      },
      "execution_count": null,
      "outputs": []
    },
    {
      "cell_type": "markdown",
      "source": [
        "---\n",
        "## **Mounting Your GDrive to this Colab Instance**\n",
        "---"
      ],
      "metadata": {
        "id": "uzgPDPMPS29X"
      }
    },
    {
      "cell_type": "code",
      "execution_count": null,
      "metadata": {
        "id": "I3omROC3FzpP"
      },
      "outputs": [],
      "source": [
        "drive.mount('/content/drive')"
      ]
    },
    {
      "cell_type": "code",
      "source": [
        "!pip install -q kaggle\n",
        "!pip install -q kaggle-cli"
      ],
      "metadata": {
        "id": "AvIK3cf0HWPH"
      },
      "execution_count": null,
      "outputs": []
    },
    {
      "cell_type": "code",
      "source": [
        "!mkdir -p ~/.kaggle\n",
        "!cp \"/content/drive/MyDrive/kaggle.json\" ~/.kaggle/\n",
        "!cat ~/.kaggle/kaggle.json\n",
        "!chmod 600 ~/.kaggle/kaggle.json"
      ],
      "metadata": {
        "id": "iJ0MGX7dHaCT"
      },
      "execution_count": null,
      "outputs": []
    },
    {
      "cell_type": "markdown",
      "source": [
        "---\n",
        "## **Accessing a publicly available dataset**\n",
        "---"
      ],
      "metadata": {
        "id": "Hgrl5f6NQAZP"
      }
    },
    {
      "cell_type": "markdown",
      "source": [
        "- To download the dataset here, you need to copy the URL after kaggle.com i.e. **username of the uploader** and **the dataset name** they have uploaded.\n",
        "\n",
        "- And the **required command** will be in the form:\n",
        "\n",
        "> `!kaggle datasets download -d username/dataset_name`\n",
        "\n",
        "- The dataset that is being accessed can be found [**here**](https://www.kaggle.com/nicholasjhana/energy-consumption-generation-prices-and-weather).\n",
        "\n",
        "- Our dataset URL is: **https://www.kaggle.com/nicholasjhana/energy-consumption-generation-prices-and-weather**\n",
        "\n",
        "- So you need to copy: **nicholasjhana/energy-consumption-generation-prices-and-weather**\n",
        "\n"
      ],
      "metadata": {
        "id": "zy8M_V0HQT7Z"
      }
    },
    {
      "cell_type": "code",
      "source": [
        "!kaggle datasets download -d nicholasjhana/energy-consumption-generation-prices-and-weather"
      ],
      "metadata": {
        "id": "vFH8XRUZPlsQ"
      },
      "execution_count": null,
      "outputs": []
    },
    {
      "cell_type": "markdown",
      "source": [
        "- **Unzipping** the downloaded zip file:"
      ],
      "metadata": {
        "id": "FG2sRliFRUpa"
      }
    },
    {
      "cell_type": "code",
      "source": [
        "!unzip /content/energy-consumption-generation-prices-and-weather.zip"
      ],
      "metadata": {
        "id": "wwIcLvMePrRQ"
      },
      "execution_count": null,
      "outputs": []
    },
    {
      "cell_type": "markdown",
      "source": [
        "- Checking the dataset:"
      ],
      "metadata": {
        "id": "m82A1Lf8RaP9"
      }
    },
    {
      "cell_type": "code",
      "source": [
        "energy_data = pd.read_csv('/content/energy_dataset.csv')\n",
        "energy_data.head()"
      ],
      "metadata": {
        "id": "K-2smtaoPvVO"
      },
      "execution_count": null,
      "outputs": []
    },
    {
      "cell_type": "code",
      "source": [
        "weather_data = pd.read_csv('/content/weather_features.csv')\n",
        "weather_data.head()"
      ],
      "metadata": {
        "id": "WF0B4oNwP3Cq"
      },
      "execution_count": null,
      "outputs": []
    },
    {
      "cell_type": "markdown",
      "source": [
        "---\n",
        "## **Accessing a Competition dataset**\n",
        "---"
      ],
      "metadata": {
        "id": "o3jleSU_QLHz"
      }
    },
    {
      "cell_type": "markdown",
      "source": [
        "- The procedure is same except that you first need to terms and conditions of the said competition.\n",
        "\n",
        "- To download the dataset here, you need to copy the URL after kaggle.com i.e. **the competition name**.\n",
        "\n",
        "- And the **required command** will be in the form:\n",
        "\n",
        "> `!kaggle competitions download -c competition_name`\n",
        "\n",
        "- The dataset and competition that are being accessed can be found [**here**](https://www.kaggle.com/c/tabular-playground-series-feb-2022).\n",
        "\n",
        "- Our dataset URL is: **https://www.kaggle.com/c/tabular-playground-series-feb-2022**\n",
        "\n",
        "- So you need to copy: **tabular-playground-series-feb-2022**\n",
        "\n"
      ],
      "metadata": {
        "id": "Cjp3c3B2Res7"
      }
    },
    {
      "cell_type": "code",
      "source": [
        "!kaggle competitions download -c tabular-playground-series-feb-2022"
      ],
      "metadata": {
        "id": "kqbVCJ5xSK0T"
      },
      "execution_count": null,
      "outputs": []
    },
    {
      "cell_type": "code",
      "source": [
        "!unzip /content/train.csv.zip\n",
        "!unzip /content/test.csv.zip"
      ],
      "metadata": {
        "id": "h6TOf4gNSf-l"
      },
      "execution_count": null,
      "outputs": []
    },
    {
      "cell_type": "code",
      "source": [
        "train = pd.read_csv('/content/train.csv')\n",
        "train.head()"
      ],
      "metadata": {
        "id": "daktKVeXSmKM"
      },
      "execution_count": null,
      "outputs": []
    },
    {
      "cell_type": "code",
      "source": [
        "test = pd.read_csv('/content/test.csv')\n",
        "test.head()"
      ],
      "metadata": {
        "id": "g4nRcsGeSo2u"
      },
      "execution_count": null,
      "outputs": []
    },
    {
      "cell_type": "markdown",
      "source": [
        "- If you want to download your dataset **on a particular folder**, you can use the following command:"
      ],
      "metadata": {
        "id": "fspi2dTITL2n"
      }
    },
    {
      "cell_type": "code",
      "source": [
        "!kaggle competitions download -c tabular-playground-series-feb-2022 -p Datasets/Playground-February22"
      ],
      "metadata": {
        "id": "CbE9ZNf_Te9J"
      },
      "execution_count": null,
      "outputs": []
    },
    {
      "cell_type": "markdown",
      "source": [
        "- This notebook is for **reference purposes only**.\n",
        "\n",
        "- You need to upload your **own API Token/Key** on your Google Drive which is obtained from Kaggle.com."
      ],
      "metadata": {
        "id": "Knb-KIJohIrl"
      }
    }
  ]
}