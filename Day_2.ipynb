{
  "nbformat": 4,
  "nbformat_minor": 0,
  "metadata": {
    "colab": {
      "provenance": [],
      "authorship_tag": "ABX9TyOMHFUxK4a0lyzkiKdjFx6E",
      "include_colab_link": true
    },
    "kernelspec": {
      "name": "python3",
      "display_name": "Python 3"
    },
    "language_info": {
      "name": "python"
    }
  },
  "cells": [
    {
      "cell_type": "markdown",
      "metadata": {
        "id": "view-in-github",
        "colab_type": "text"
      },
      "source": [
        "<a href=\"https://colab.research.google.com/github/mayu99/Python-/blob/main/Day_2.ipynb\" target=\"_parent\"><img src=\"https://colab.research.google.com/assets/colab-badge.svg\" alt=\"Open In Colab\"/></a>"
      ]
    },
    {
      "cell_type": "code",
      "execution_count": null,
      "metadata": {
        "colab": {
          "base_uri": "https://localhost:8080/"
        },
        "id": "r76mx0klNfxs",
        "outputId": "1dfd228f-b638-4469-dc62-7b66c7dcc685"
      },
      "outputs": [
        {
          "output_type": "stream",
          "name": "stdout",
          "text": [
            "1.75\n",
            "80\n",
            "26\n"
          ]
        }
      ],
      "source": [
        "# BMI Calculator\n",
        "\n",
        "height = input()\n",
        "weight = input()\n",
        "\n",
        "height = float(height)\n",
        "weight = int(weight)\n",
        "\n",
        "BMI = (weight / (height**2))\n",
        "BMI = int(BMI)\n",
        "print(BMI)\n"
      ]
    },
    {
      "cell_type": "code",
      "source": [
        "# round()\n",
        "print((5/3))"
      ],
      "metadata": {
        "colab": {
          "base_uri": "https://localhost:8080/"
        },
        "id": "BBkmaFqSXhYR",
        "outputId": "dbe63452-11af-4c3b-9ea6-1a9aa1a1aeb2"
      },
      "execution_count": null,
      "outputs": [
        {
          "output_type": "stream",
          "name": "stdout",
          "text": [
            "1.6666666666666667\n"
          ]
        }
      ]
    },
    {
      "cell_type": "code",
      "source": [
        "print(round(5/3))"
      ],
      "metadata": {
        "colab": {
          "base_uri": "https://localhost:8080/"
        },
        "id": "K4V8hKw9aCqO",
        "outputId": "16a5194f-fae0-48c3-c689-65853beea93c"
      },
      "execution_count": null,
      "outputs": [
        {
          "output_type": "stream",
          "name": "stdout",
          "text": [
            "2\n"
          ]
        }
      ]
    },
    {
      "cell_type": "code",
      "source": [
        "print(round(5/3,2))"
      ],
      "metadata": {
        "colab": {
          "base_uri": "https://localhost:8080/"
        },
        "id": "IZYFGIaEaIjQ",
        "outputId": "91c10708-7fdd-4d5e-b670-84946c6dfa5e"
      },
      "execution_count": null,
      "outputs": [
        {
          "output_type": "stream",
          "name": "stdout",
          "text": [
            "1.67\n"
          ]
        }
      ]
    },
    {
      "cell_type": "code",
      "source": [
        "# Floor division\n",
        "print(5//3)"
      ],
      "metadata": {
        "colab": {
          "base_uri": "https://localhost:8080/"
        },
        "id": "69ozzrULaS10",
        "outputId": "667970a2-9125-4945-b268-b3cb2c027e8b"
      },
      "execution_count": null,
      "outputs": [
        {
          "output_type": "stream",
          "name": "stdout",
          "text": [
            "1\n"
          ]
        }
      ]
    },
    {
      "cell_type": "code",
      "source": [
        "# Number manipulation\n",
        "Score = 0\n",
        "Score = Score + 1\n",
        "print(Score)"
      ],
      "metadata": {
        "colab": {
          "base_uri": "https://localhost:8080/"
        },
        "id": "yyuROu8panoa",
        "outputId": "f2b00959-ebff-46f8-e134-8b6ab071b9ee"
      },
      "execution_count": null,
      "outputs": [
        {
          "output_type": "stream",
          "name": "stdout",
          "text": [
            "1\n"
          ]
        }
      ]
    },
    {
      "cell_type": "code",
      "source": [
        "Score += 1\n",
        "print(Score)"
      ],
      "metadata": {
        "colab": {
          "base_uri": "https://localhost:8080/"
        },
        "id": "nA2vdKbgbATz",
        "outputId": "b5461a00-cf17-4d3a-87b1-b67cfbd1da42"
      },
      "execution_count": null,
      "outputs": [
        {
          "output_type": "stream",
          "name": "stdout",
          "text": [
            "2\n"
          ]
        }
      ]
    },
    {
      "cell_type": "code",
      "source": [
        "# F-string\n",
        "print(f\"Your score is {Score} and BMI is {BMI}\")"
      ],
      "metadata": {
        "colab": {
          "base_uri": "https://localhost:8080/"
        },
        "id": "5n38H6SkbDSX",
        "outputId": "eaffa248-ab62-4a91-e042-8ab1fb90f23b"
      },
      "execution_count": null,
      "outputs": [
        {
          "output_type": "stream",
          "name": "stdout",
          "text": [
            "Your score is 2 and BMI is 26\n"
          ]
        }
      ]
    },
    {
      "cell_type": "code",
      "source": [
        "# Life in Weeks\n",
        "\n",
        "age = input()\n",
        "Total_age = 90\n",
        "age = int(age)\n",
        "\n",
        "Left = (Total_age - age) * 52\n",
        "\n",
        "print(f\"You have {Left} weeks left.\")"
      ],
      "metadata": {
        "colab": {
          "base_uri": "https://localhost:8080/"
        },
        "id": "Askc9LQbb15f",
        "outputId": "6a146e8e-4d6f-4d3f-8f5c-b80fbd59004a"
      },
      "execution_count": null,
      "outputs": [
        {
          "output_type": "stream",
          "name": "stdout",
          "text": [
            "15\n",
            "You have 3900 weeks left.\n"
          ]
        }
      ]
    },
    {
      "cell_type": "code",
      "source": [
        "# Tip Calculator\n",
        "\n",
        "print(\"Welcome to the tip calculator.\")\n",
        "Bill = float(input(\"What was the total bill? $\"))\n",
        "Tip = int(input(\"What percentage tip would you like to give? 10, 12, or 15?\"))\n",
        "People = int(input(\"How many people to split the bill?\"))\n",
        "\n",
        "Tip_Amount = (Bill * (Tip / 100))\n",
        "Final = (Bill + Tip_Amount)/ People\n",
        "Final = round(Final, 2)\n",
        "\n",
        "print(f\"Each person should pay: {Final}\")"
      ],
      "metadata": {
        "colab": {
          "base_uri": "https://localhost:8080/"
        },
        "id": "OuOPeeTmefRK",
        "outputId": "0a8dabb1-78f8-41e0-8ea1-b5d58ab87cae"
      },
      "execution_count": null,
      "outputs": [
        {
          "output_type": "stream",
          "name": "stdout",
          "text": [
            "Welcome to the tip calculator.\n",
            "What was the total bill? $124.56\n",
            "What percentage tip would you like to give? 10, 12, or 15?12\n",
            "How many people to split the bill?7\n",
            "Each person should pay: 19.93\n"
          ]
        }
      ]
    }
  ]
}