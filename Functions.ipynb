{
  "cells": [
    {
      "cell_type": "markdown",
      "metadata": {
        "id": "view-in-github",
        "colab_type": "text"
      },
      "source": [
        "<a href=\"https://colab.research.google.com/github/mayu99/Python-/blob/main/Functions.ipynb\" target=\"_parent\"><img src=\"https://colab.research.google.com/assets/colab-badge.svg\" alt=\"Open In Colab\"/></a>"
      ]
    },
    {
      "cell_type": "markdown",
      "metadata": {
        "id": "SUqcSxSaZilN"
      },
      "source": [
        "Functions  - Block of code in which if we provide input, we will receive an\n",
        "output\n",
        "\n",
        "1. Abstraction - Hai lekin dikhta nahi (ghost)\n",
        "2. Decomposition - smal small parts combined to form one single output"
      ]
    },
    {
      "cell_type": "markdown",
      "metadata": {
        "id": "B5HyuSjEZ069"
      },
      "source": [
        "Components of a function\n",
        "- Keyword, name, parameter or arguments , docstring, body, - Function declaration\n",
        "- Function call"
      ]
    },
    {
      "cell_type": "code",
      "execution_count": null,
      "metadata": {
        "id": "4qvSTjDgMqpA"
      },
      "outputs": [],
      "source": [
        "def is_even(i):\n",
        "  \"\"\"\n",
        "  Ths function returns if the input number is even/odd\n",
        "  input - any valid integer\n",
        "  output - even/odd\n",
        "  created on 26th Dec 2023\n",
        "  \"\"\"\n",
        "  if i%2 == 0:\n",
        "    return \"even\"\n",
        "  else:\n",
        "    return \"odd\"\n"
      ]
    },
    {
      "cell_type": "code",
      "execution_count": null,
      "metadata": {
        "colab": {
          "base_uri": "https://localhost:8080/"
        },
        "id": "PIv-jCvLSHOy",
        "outputId": "46fa414e-40dd-4dfc-a2ae-5771f4caa330"
      },
      "outputs": [
        {
          "name": "stdout",
          "output_type": "stream",
          "text": [
            "odd\n",
            "even\n",
            "odd\n",
            "even\n",
            "odd\n",
            "even\n",
            "odd\n",
            "even\n",
            "odd\n",
            "even\n"
          ]
        }
      ],
      "source": [
        "for i in range(1,11):\n",
        "  x = is_even(i)\n",
        "  print(x)"
      ]
    },
    {
      "cell_type": "code",
      "execution_count": null,
      "metadata": {
        "id": "SBpjOYPcSJjz"
      },
      "outputs": [],
      "source": [
        "# Point of view  - handle everything\n",
        "def is_even(i):\n",
        "  \"\"\"\n",
        "  Ths function returns if the input number is even/odd\n",
        "  input - any valid integer\n",
        "  output - even/odd\n",
        "  created on 26th Dec 2023\n",
        "  \"\"\"\n",
        "  if type(i) == int:\n",
        "    if i%2 == 0:\n",
        "      return \"even\"\n",
        "    else:\n",
        "      return \"odd\"\n",
        "  else:\n",
        "    return \"Pagal ho kya\"\n"
      ]
    },
    {
      "cell_type": "code",
      "execution_count": null,
      "metadata": {
        "colab": {
          "base_uri": "https://localhost:8080/",
          "height": 35
        },
        "id": "-aygS5D9YL75",
        "outputId": "9bfd0df9-3533-47a6-8dff-c49ac3918e86"
      },
      "outputs": [
        {
          "data": {
            "application/vnd.google.colaboratory.intrinsic+json": {
              "type": "string"
            },
            "text/plain": [
              "'Pagal ho kya'"
            ]
          },
          "execution_count": 11,
          "metadata": {},
          "output_type": "execute_result"
        }
      ],
      "source": [
        "is_even(\"Hello\")"
      ]
    },
    {
      "cell_type": "markdown",
      "metadata": {
        "id": "KHQP7SD6Z7HI"
      },
      "source": [
        "Fucntion declaration - Parameter\n",
        "\n",
        "Fucntion call - argument - value given to the parameters"
      ]
    },
    {
      "cell_type": "markdown",
      "metadata": {
        "id": "nV8nU6i4ZTf9"
      },
      "source": [
        "Type of arguments: -\n",
        "1. Default Argument\n",
        "2. Positional Argument\n",
        "3. Keyword Argument"
      ]
    },
    {
      "cell_type": "code",
      "execution_count": null,
      "metadata": {
        "id": "aU6rbV1wYOrL"
      },
      "outputs": [],
      "source": [
        "# Default Arguments\n",
        "def power(a=1, b=1):\n",
        "  return a**b"
      ]
    },
    {
      "cell_type": "code",
      "execution_count": null,
      "metadata": {
        "colab": {
          "base_uri": "https://localhost:8080/"
        },
        "id": "X8klokoya7-h",
        "outputId": "3db2de88-50d6-46ac-c8e6-485047117307"
      },
      "outputs": [
        {
          "data": {
            "text/plain": [
              "1"
            ]
          },
          "execution_count": 15,
          "metadata": {},
          "output_type": "execute_result"
        }
      ],
      "source": [
        "power()  # Even in case of improper argument of null argument, code will not give you error"
      ]
    },
    {
      "cell_type": "code",
      "execution_count": null,
      "metadata": {
        "colab": {
          "base_uri": "https://localhost:8080/"
        },
        "id": "H-KuC8G4a9V_",
        "outputId": "549503de-f449-4b10-e580-7b6ce2195060"
      },
      "outputs": [
        {
          "data": {
            "text/plain": [
              "4"
            ]
          },
          "execution_count": 16,
          "metadata": {},
          "output_type": "execute_result"
        }
      ],
      "source": [
        "power(2,2)"
      ]
    },
    {
      "cell_type": "markdown",
      "metadata": {
        "id": "trt7vB9Zc2Np"
      },
      "source": [
        "Positional argument - argument are sent and accepted in the same sequence in which they are declared"
      ]
    },
    {
      "cell_type": "markdown",
      "metadata": {
        "id": "ocSyqpMkc6uk"
      },
      "source": [
        "Keyword argument: -\n",
        "Send argument with parameter name - helpful in case when there are lot of parameter and it is not possible to remember the position\n",
        "(E.g 25 parameter)"
      ]
    },
    {
      "cell_type": "code",
      "execution_count": null,
      "metadata": {
        "colab": {
          "base_uri": "https://localhost:8080/"
        },
        "id": "zmFZu2b5cxEU",
        "outputId": "db762579-ab34-4117-f0ba-9f8418558374"
      },
      "outputs": [
        {
          "data": {
            "text/plain": [
              "8"
            ]
          },
          "execution_count": 19,
          "metadata": {},
          "output_type": "execute_result"
        }
      ],
      "source": [
        "# Keyword argument\n",
        "power(b = 3, a =2)"
      ]
    },
    {
      "cell_type": "markdown",
      "metadata": {
        "id": "brsxdr58dzVk"
      },
      "source": [
        "Positional argument has high precedence then keyword argument. So always send positional first then keyword\n",
        "\n",
        "power(b=2, 4) - This will throw an error"
      ]
    },
    {
      "cell_type": "code",
      "execution_count": null,
      "metadata": {
        "colab": {
          "base_uri": "https://localhost:8080/"
        },
        "id": "suxlVVIYdJoW",
        "outputId": "e65968d0-977f-4b68-f31b-723cb8d5c2b6"
      },
      "outputs": [
        {
          "data": {
            "text/plain": [
              "16"
            ]
          },
          "execution_count": 20,
          "metadata": {},
          "output_type": "execute_result"
        }
      ],
      "source": [
        "power(4, b = 2)"
      ]
    },
    {
      "cell_type": "code",
      "execution_count": null,
      "metadata": {
        "id": "VShqNklNeLT3"
      },
      "outputs": [],
      "source": [
        "# args\n",
        "\n",
        "def multiply(*args):\n",
        "  num = 1\n",
        "  for i in args:\n",
        "    num *= i\n",
        "\n",
        "  print(args)\n",
        "  return num"
      ]
    },
    {
      "cell_type": "code",
      "execution_count": null,
      "metadata": {
        "colab": {
          "base_uri": "https://localhost:8080/"
        },
        "id": "hALjePG8g2K8",
        "outputId": "8629ef2c-3381-4c16-e519-1bd2e5325a4d"
      },
      "outputs": [
        {
          "name": "stdout",
          "output_type": "stream",
          "text": [
            "(1, 2, 3, 4, 5, 6, 8, 9, 77, 66)\n"
          ]
        },
        {
          "data": {
            "text/plain": [
              "263450880"
            ]
          },
          "execution_count": 28,
          "metadata": {},
          "output_type": "execute_result"
        }
      ],
      "source": [
        "multiply(1,2,3,4,5,6,8,9,77,66)"
      ]
    },
    {
      "cell_type": "code",
      "execution_count": null,
      "metadata": {
        "colab": {
          "base_uri": "https://localhost:8080/"
        },
        "id": "AYdITlxLg_Jv",
        "outputId": "b10c98ad-ba08-4a1c-851b-4082475c3b7f"
      },
      "outputs": [
        {
          "name": "stdout",
          "output_type": "stream",
          "text": [
            "\n",
            "  Ths function returns if the input number is even/odd\n",
            "  input - any valid integer \n",
            "  output - even/odd\n",
            "  created on 26th Dec 2023\n",
            "  \n"
          ]
        }
      ],
      "source": [
        "# How to check documentation of a function\n",
        "\n",
        "print(is_even.__doc__)"
      ]
    },
    {
      "cell_type": "code",
      "execution_count": null,
      "metadata": {
        "colab": {
          "base_uri": "https://localhost:8080/"
        },
        "id": "nAowxnJXhz-F",
        "outputId": "9f235e81-13ef-4d88-e4fa-6bf23f0f281c"
      },
      "outputs": [
        {
          "name": "stdout",
          "output_type": "stream",
          "text": [
            "print(value, ..., sep=' ', end='\\n', file=sys.stdout, flush=False)\n",
            "\n",
            "Prints the values to a stream, or to sys.stdout by default.\n",
            "Optional keyword arguments:\n",
            "file:  a file-like object (stream); defaults to the current sys.stdout.\n",
            "sep:   string inserted between values, default a space.\n",
            "end:   string appended after the last value, default a newline.\n",
            "flush: whether to forcibly flush the stream.\n"
          ]
        }
      ],
      "source": [
        "print(print.__doc__)"
      ]
    },
    {
      "cell_type": "code",
      "execution_count": null,
      "metadata": {
        "id": "0yaWDahah3Mc"
      },
      "outputs": [],
      "source": [
        "# kwargs\n",
        "\n",
        "def display(**kwargs):\n",
        "  for (key, value) in kwargs.items():\n",
        "    print(key,\"->\", value)"
      ]
    },
    {
      "cell_type": "code",
      "execution_count": null,
      "metadata": {
        "colab": {
          "base_uri": "https://localhost:8080/"
        },
        "id": "iXYd4T9IPwRP",
        "outputId": "a9b09361-93ad-48d9-f7c4-d0f82dbd093b"
      },
      "outputs": [
        {
          "name": "stdout",
          "output_type": "stream",
          "text": [
            "India -> Delhi\n"
          ]
        }
      ],
      "source": [
        "display(India=\"Delhi\")"
      ]
    },
    {
      "cell_type": "code",
      "execution_count": null,
      "metadata": {
        "id": "FvFQJwqDP06J"
      },
      "outputs": [],
      "source": [
        "def display(**salman):\n",
        "  for (key, value) in salman.items():\n",
        "    print(key,\"->\", value)"
      ]
    },
    {
      "cell_type": "code",
      "execution_count": null,
      "metadata": {
        "colab": {
          "base_uri": "https://localhost:8080/"
        },
        "id": "wLXxOdhMP7my",
        "outputId": "cc169f71-f66a-42f5-93dd-28c31629781d"
      },
      "outputs": [
        {
          "name": "stdout",
          "output_type": "stream",
          "text": [
            "Srilanka -> Colombo\n"
          ]
        }
      ],
      "source": [
        "display(Srilanka=\"Colombo\")"
      ]
    },
    {
      "cell_type": "markdown",
      "metadata": {
        "id": "0PAvIqJgQlsD"
      },
      "source": [
        " Points to remember while using `*args and **kwargs`\n",
        "\n",
        "- order of the arguments matter(normal -> `*args` -> `**kwargs`)\n",
        "- The words “args” and “kwargs” are only a convention, you can use any name of your choice\n"
      ]
    },
    {
      "cell_type": "markdown",
      "metadata": {
        "id": "-bKCJUPeS1zz"
      },
      "source": [
        "# How functions are executed in a memory\n",
        "\n",
        "Ram(city) -> House -> Room(Function)\n",
        "\n",
        "- All operation of function happens within that room - variable creation, defined operations, etc\n",
        "\n",
        "- Life of a variable is only till the function exist\n",
        "- Function exist only from function call till the function return\n"
      ]
    },
    {
      "cell_type": "markdown",
      "metadata": {
        "id": "JSZqIghuUZTZ"
      },
      "source": [
        "# Without Return statement\n",
        "\n",
        "It will return \"None\" as a default return. So be careful if you are not returning anything."
      ]
    },
    {
      "cell_type": "markdown",
      "metadata": {
        "id": "IyhrFZliXvrW"
      },
      "source": [
        "# Local variable vs Global variable\n",
        "\n",
        "- Local variable has scope only within the fucntion\n",
        "- Global variable has scope throughout the program\n",
        "\n",
        "We cannot change a global varibale from  within a fucntion. But we can create a new local variable with the same name as global variable and use it within the function.\n",
        "\n"
      ]
    },
    {
      "cell_type": "code",
      "execution_count": null,
      "metadata": {
        "colab": {
          "base_uri": "https://localhost:8080/"
        },
        "id": "DBwQB4VSP_Vr",
        "outputId": "f431b429-4555-46f3-9d86-6e1354119c77"
      },
      "outputs": [
        {
          "name": "stdout",
          "output_type": "stream",
          "text": [
            "20\n"
          ]
        }
      ],
      "source": [
        "global_variable = 10\n",
        "\n",
        "def my_function():\n",
        "  global global_variable\n",
        "  global_variable = 20\n",
        "\n",
        "my_function()\n",
        "print(global_variable)"
      ]
    },
    {
      "cell_type": "markdown",
      "metadata": {
        "id": "xzoLLTqnYvxQ"
      },
      "source": [
        "To change a global variable within a fucntion, we need to use \"global\" keyword.\n",
        "\n",
        "But it is considered as a bad practice to update global variable from a fucntion. Good practice is to update it outside at the start of the program"
      ]
    },
    {
      "cell_type": "code",
      "execution_count": null,
      "metadata": {
        "colab": {
          "base_uri": "https://localhost:8080/"
        },
        "id": "6SHHaQr6XQRg",
        "outputId": "699f2837-69fc-4ada-f411-3ad0e765dcdc"
      },
      "outputs": [
        {
          "name": "stdout",
          "output_type": "stream",
          "text": [
            "20\n",
            "10\n"
          ]
        }
      ],
      "source": [
        "global_variable = 10\n",
        "\n",
        "def my_function():\n",
        "  global_variable = 20\n",
        "  print(global_variable)\n",
        "  return global_variable\n",
        "\n",
        "my_function()\n",
        "print(global_variable)"
      ]
    },
    {
      "cell_type": "code",
      "execution_count": null,
      "metadata": {
        "colab": {
          "base_uri": "https://localhost:8080/"
        },
        "id": "ESM73XbpXaVD",
        "outputId": "6356353f-4193-4ffe-98a2-d25674c5eb56"
      },
      "outputs": [
        {
          "name": "stdout",
          "output_type": "stream",
          "text": [
            "5\n"
          ]
        }
      ],
      "source": [
        "def h(x):\n",
        "    x += 1\n",
        "x = 5\n",
        "h(x)\n",
        "print(x)"
      ]
    },
    {
      "cell_type": "markdown",
      "metadata": {
        "id": "QkVdyYnpoRx-"
      },
      "source": [
        "## Nested Fucntion"
      ]
    },
    {
      "cell_type": "code",
      "execution_count": null,
      "metadata": {
        "id": "VZtQhV4QZgCQ"
      },
      "outputs": [],
      "source": [
        "def f():\n",
        "  def g():\n",
        "    print(\"Inside g\")\n",
        "  g()\n",
        "  print(\"Inside f\")"
      ]
    },
    {
      "cell_type": "code",
      "execution_count": null,
      "metadata": {
        "colab": {
          "base_uri": "https://localhost:8080/"
        },
        "id": "zif4AG_PoZOL",
        "outputId": "5f5be609-afb9-40b8-fbfa-d27c147ed65e"
      },
      "outputs": [
        {
          "name": "stdout",
          "output_type": "stream",
          "text": [
            "Inside g\n",
            "Inside f\n"
          ]
        }
      ],
      "source": [
        "f()"
      ]
    },
    {
      "cell_type": "code",
      "execution_count": null,
      "metadata": {
        "id": "InY64SJLoatC"
      },
      "outputs": [],
      "source": [
        "# Infinte loop\n",
        "def f():\n",
        "  def g():\n",
        "    print(\" in g\")\n",
        "    f()\n",
        "  g()\n",
        "  print(\"in f\")"
      ]
    },
    {
      "cell_type": "code",
      "execution_count": null,
      "metadata": {
        "colab": {
          "base_uri": "https://localhost:8080/",
          "height": 1000
        },
        "id": "C_oP5DtKpWdx",
        "outputId": "885bfb48-238c-4485-a9c0-a5847106d4dd"
      },
      "outputs": [
        {
          "name": "stdout",
          "output_type": "stream",
          "text": [
            " in g\n",
            " in g\n",
            " in g\n",
            " in g\n",
            " in g\n",
            " in g\n",
            " in g\n",
            " in g\n",
            " in g\n",
            " in g\n",
            " in g\n",
            " in g\n",
            " in g\n",
            " in g\n",
            " in g\n",
            " in g\n",
            " in g\n",
            " in g\n",
            " in g\n",
            " in g\n",
            " in g\n",
            " in g\n",
            " in g\n",
            " in g\n",
            " in g\n",
            " in g\n",
            " in g\n",
            " in g\n",
            " in g\n",
            " in g\n",
            " in g\n",
            " in g\n",
            " in g\n",
            " in g\n",
            " in g\n",
            " in g\n",
            " in g\n",
            " in g\n",
            " in g\n",
            " in g\n",
            " in g\n",
            " in g\n",
            " in g\n",
            " in g\n",
            " in g\n",
            " in g\n",
            " in g\n",
            " in g\n",
            " in g\n",
            " in g\n",
            " in g\n",
            " in g\n",
            " in g\n",
            " in g\n",
            " in g\n",
            " in g\n",
            " in g\n",
            " in g\n",
            " in g\n",
            " in g\n",
            " in g\n",
            " in g\n",
            " in g\n",
            " in g\n",
            " in g\n",
            " in g\n",
            " in g\n",
            " in g\n",
            " in g\n",
            " in g\n",
            " in g\n",
            " in g\n",
            " in g\n",
            " in g\n",
            " in g\n",
            " in g\n",
            " in g\n",
            " in g\n",
            " in g\n",
            " in g\n",
            " in g\n",
            " in g\n",
            " in g\n",
            " in g\n",
            " in g\n",
            " in g\n",
            " in g\n",
            " in g\n",
            " in g\n",
            " in g\n",
            " in g\n",
            " in g\n",
            " in g\n",
            " in g\n",
            " in g\n",
            " in g\n",
            " in g\n",
            " in g\n",
            " in g\n",
            " in g\n",
            " in g\n",
            " in g\n",
            " in g\n",
            " in g\n",
            " in g\n",
            " in g\n",
            " in g\n",
            " in g\n",
            " in g\n",
            " in g\n",
            " in g\n",
            " in g\n",
            " in g\n",
            " in g\n",
            " in g\n",
            " in g\n",
            " in g\n",
            " in g\n",
            " in g\n",
            " in g\n",
            " in g\n",
            " in g\n",
            " in g\n",
            " in g\n",
            " in g\n",
            " in g\n",
            " in g\n",
            " in g\n",
            " in g\n",
            " in g\n",
            " in g\n",
            " in g\n",
            " in g\n",
            " in g\n",
            " in g\n",
            " in g\n",
            " in g\n",
            " in g\n",
            " in g\n",
            " in g\n",
            " in g\n",
            " in g\n",
            " in g\n",
            " in g\n",
            " in g\n",
            " in g\n",
            " in g\n",
            " in g\n",
            " in g\n",
            " in g\n",
            " in g\n",
            " in g\n",
            " in g\n",
            " in g\n",
            " in g\n",
            " in g\n",
            " in g\n",
            " in g\n",
            " in g\n",
            " in g\n",
            " in g\n",
            " in g\n",
            " in g\n",
            " in g\n",
            " in g\n",
            " in g\n",
            " in g\n",
            " in g\n",
            " in g\n",
            " in g\n",
            " in g\n",
            " in g\n",
            " in g\n",
            " in g\n",
            " in g\n",
            " in g\n",
            " in g\n",
            " in g\n",
            " in g\n",
            " in g\n",
            " in g\n",
            " in g\n",
            " in g\n",
            " in g\n",
            " in g\n",
            " in g\n",
            " in g\n",
            " in g\n",
            " in g\n",
            " in g\n",
            " in g\n",
            " in g\n",
            " in g\n",
            " in g\n",
            " in g\n",
            " in g\n",
            " in g\n",
            " in g\n",
            " in g\n",
            " in g\n",
            " in g\n",
            " in g\n",
            " in g\n",
            " in g\n",
            " in g\n",
            " in g\n",
            " in g\n",
            " in g\n",
            " in g\n",
            " in g\n",
            " in g\n",
            " in g\n",
            " in g\n",
            " in g\n",
            " in g\n",
            " in g\n",
            " in g\n",
            " in g\n",
            " in g\n",
            " in g\n",
            " in g\n",
            " in g\n",
            " in g\n",
            " in g\n",
            " in g\n",
            " in g\n",
            " in g\n",
            " in g\n",
            " in g\n",
            " in g\n",
            " in g\n",
            " in g\n",
            " in g\n",
            " in g\n",
            " in g\n",
            " in g\n",
            " in g\n",
            " in g\n",
            " in g\n",
            " in g\n",
            " in g\n",
            " in g\n",
            " in g\n",
            " in g\n",
            " in g\n",
            " in g\n",
            " in g\n",
            " in g\n",
            " in g\n",
            " in g\n",
            " in g\n",
            " in g\n",
            " in g\n",
            " in g\n",
            " in g\n",
            " in g\n",
            " in g\n",
            " in g\n",
            " in g\n",
            " in g\n",
            " in g\n",
            " in g\n",
            " in g\n",
            " in g\n",
            " in g\n",
            " in g\n",
            " in g\n",
            " in g\n",
            " in g\n",
            " in g\n",
            " in g\n",
            " in g\n",
            " in g\n",
            " in g\n",
            " in g\n",
            " in g\n",
            " in g\n",
            " in g\n",
            " in g\n",
            " in g\n",
            " in g\n",
            " in g\n",
            " in g\n",
            " in g\n",
            " in g\n",
            " in g\n",
            " in g\n",
            " in g\n",
            " in g\n",
            " in g\n",
            " in g\n",
            " in g\n",
            " in g\n",
            " in g\n",
            " in g\n",
            " in g\n",
            " in g\n",
            " in g\n",
            " in g\n",
            " in g\n",
            " in g\n",
            " in g\n",
            " in g\n",
            " in g\n",
            " in g\n",
            " in g\n",
            " in g\n",
            " in g\n",
            " in g\n",
            " in g\n",
            " in g\n",
            " in g\n",
            " in g\n",
            " in g\n",
            " in g\n",
            " in g\n",
            " in g\n",
            " in g\n",
            " in g\n",
            " in g\n",
            " in g\n",
            " in g\n",
            " in g\n",
            " in g\n",
            " in g\n",
            " in g\n",
            " in g\n",
            " in g\n",
            " in g\n",
            " in g\n",
            " in g\n",
            " in g\n",
            " in g\n",
            " in g\n",
            " in g\n",
            " in g\n",
            " in g\n",
            " in g\n",
            " in g\n",
            " in g\n",
            " in g\n",
            " in g\n",
            " in g\n",
            " in g\n",
            " in g\n",
            " in g\n",
            " in g\n",
            " in g\n",
            " in g\n",
            " in g\n",
            " in g\n",
            " in g\n",
            " in g\n",
            " in g\n",
            " in g\n",
            " in g\n",
            " in g\n",
            " in g\n",
            " in g\n",
            " in g\n",
            " in g\n",
            " in g\n",
            " in g\n",
            " in g\n",
            " in g\n",
            " in g\n",
            " in g\n",
            " in g\n",
            " in g\n",
            " in g\n",
            " in g\n",
            " in g\n",
            " in g\n",
            " in g\n",
            " in g\n",
            " in g\n",
            " in g\n",
            " in g\n",
            " in g\n",
            " in g\n",
            " in g\n",
            " in g\n",
            " in g\n",
            " in g\n",
            " in g\n",
            " in g\n",
            " in g\n",
            " in g\n",
            " in g\n",
            " in g\n",
            " in g\n",
            " in g\n",
            " in g\n",
            " in g\n",
            " in g\n",
            " in g\n",
            " in g\n",
            " in g\n",
            " in g\n",
            " in g\n",
            " in g\n",
            " in g\n",
            " in g\n",
            " in g\n",
            " in g\n",
            " in g\n",
            " in g\n",
            " in g\n",
            " in g\n",
            " in g\n",
            " in g\n",
            " in g\n",
            " in g\n",
            " in g\n",
            " in g\n",
            " in g\n",
            " in g\n",
            " in g\n",
            " in g\n",
            " in g\n",
            " in g\n",
            " in g\n",
            " in g\n",
            " in g\n",
            " in g\n",
            " in g\n",
            " in g\n",
            " in g\n",
            " in g\n",
            " in g\n",
            " in g\n",
            " in g\n",
            " in g\n",
            " in g\n",
            " in g\n",
            " in g\n",
            " in g\n",
            " in g\n",
            " in g\n",
            " in g\n",
            " in g\n",
            " in g\n",
            " in g\n",
            " in g\n",
            " in g\n",
            " in g\n",
            " in g\n",
            " in g\n",
            " in g\n",
            " in g\n",
            " in g\n",
            " in g\n",
            " in g\n",
            " in g\n",
            " in g\n",
            " in g\n",
            " in g\n",
            " in g\n",
            " in g\n",
            " in g\n",
            " in g\n",
            " in g\n",
            " in g\n",
            " in g\n",
            " in g\n",
            " in g\n",
            " in g\n",
            " in g\n",
            " in g\n",
            " in g\n",
            " in g\n",
            " in g\n",
            " in g\n",
            " in g\n",
            " in g\n",
            " in g\n",
            " in g\n"
          ]
        },
        {
          "ename": "RecursionError",
          "evalue": "maximum recursion depth exceeded",
          "output_type": "error",
          "traceback": [
            "\u001b[0;31m---------------------------------------------------------------------------\u001b[0m",
            "\u001b[0;31mRecursionError\u001b[0m                            Traceback (most recent call last)",
            "\u001b[0;32m<ipython-input-17-c43e34e6d405>\u001b[0m in \u001b[0;36m<cell line: 1>\u001b[0;34m()\u001b[0m\n\u001b[0;32m----> 1\u001b[0;31m \u001b[0mf\u001b[0m\u001b[0;34m(\u001b[0m\u001b[0;34m)\u001b[0m\u001b[0;34m\u001b[0m\u001b[0;34m\u001b[0m\u001b[0m\n\u001b[0m",
            "\u001b[0;32m<ipython-input-16-dc27c9a70253>\u001b[0m in \u001b[0;36mf\u001b[0;34m()\u001b[0m\n\u001b[1;32m      4\u001b[0m     \u001b[0mprint\u001b[0m\u001b[0;34m(\u001b[0m\u001b[0;34m\" in g\"\u001b[0m\u001b[0;34m)\u001b[0m\u001b[0;34m\u001b[0m\u001b[0;34m\u001b[0m\u001b[0m\n\u001b[1;32m      5\u001b[0m     \u001b[0mf\u001b[0m\u001b[0;34m(\u001b[0m\u001b[0;34m)\u001b[0m\u001b[0;34m\u001b[0m\u001b[0;34m\u001b[0m\u001b[0m\n\u001b[0;32m----> 6\u001b[0;31m   \u001b[0mg\u001b[0m\u001b[0;34m(\u001b[0m\u001b[0;34m)\u001b[0m\u001b[0;34m\u001b[0m\u001b[0;34m\u001b[0m\u001b[0m\n\u001b[0m\u001b[1;32m      7\u001b[0m   \u001b[0mprint\u001b[0m\u001b[0;34m(\u001b[0m\u001b[0;34m\"in f\"\u001b[0m\u001b[0;34m)\u001b[0m\u001b[0;34m\u001b[0m\u001b[0;34m\u001b[0m\u001b[0m\n",
            "\u001b[0;32m<ipython-input-16-dc27c9a70253>\u001b[0m in \u001b[0;36mg\u001b[0;34m()\u001b[0m\n\u001b[1;32m      3\u001b[0m   \u001b[0;32mdef\u001b[0m \u001b[0mg\u001b[0m\u001b[0;34m(\u001b[0m\u001b[0;34m)\u001b[0m\u001b[0;34m:\u001b[0m\u001b[0;34m\u001b[0m\u001b[0;34m\u001b[0m\u001b[0m\n\u001b[1;32m      4\u001b[0m     \u001b[0mprint\u001b[0m\u001b[0;34m(\u001b[0m\u001b[0;34m\" in g\"\u001b[0m\u001b[0;34m)\u001b[0m\u001b[0;34m\u001b[0m\u001b[0;34m\u001b[0m\u001b[0m\n\u001b[0;32m----> 5\u001b[0;31m     \u001b[0mf\u001b[0m\u001b[0;34m(\u001b[0m\u001b[0;34m)\u001b[0m\u001b[0;34m\u001b[0m\u001b[0;34m\u001b[0m\u001b[0m\n\u001b[0m\u001b[1;32m      6\u001b[0m   \u001b[0mg\u001b[0m\u001b[0;34m(\u001b[0m\u001b[0;34m)\u001b[0m\u001b[0;34m\u001b[0m\u001b[0;34m\u001b[0m\u001b[0m\n\u001b[1;32m      7\u001b[0m   \u001b[0mprint\u001b[0m\u001b[0;34m(\u001b[0m\u001b[0;34m\"in f\"\u001b[0m\u001b[0;34m)\u001b[0m\u001b[0;34m\u001b[0m\u001b[0;34m\u001b[0m\u001b[0m\n",
            "... last 2 frames repeated, from the frame below ...\n",
            "\u001b[0;32m<ipython-input-16-dc27c9a70253>\u001b[0m in \u001b[0;36mf\u001b[0;34m()\u001b[0m\n\u001b[1;32m      4\u001b[0m     \u001b[0mprint\u001b[0m\u001b[0;34m(\u001b[0m\u001b[0;34m\" in g\"\u001b[0m\u001b[0;34m)\u001b[0m\u001b[0;34m\u001b[0m\u001b[0;34m\u001b[0m\u001b[0m\n\u001b[1;32m      5\u001b[0m     \u001b[0mf\u001b[0m\u001b[0;34m(\u001b[0m\u001b[0;34m)\u001b[0m\u001b[0;34m\u001b[0m\u001b[0;34m\u001b[0m\u001b[0m\n\u001b[0;32m----> 6\u001b[0;31m   \u001b[0mg\u001b[0m\u001b[0;34m(\u001b[0m\u001b[0;34m)\u001b[0m\u001b[0;34m\u001b[0m\u001b[0;34m\u001b[0m\u001b[0m\n\u001b[0m\u001b[1;32m      7\u001b[0m   \u001b[0mprint\u001b[0m\u001b[0;34m(\u001b[0m\u001b[0;34m\"in f\"\u001b[0m\u001b[0;34m)\u001b[0m\u001b[0;34m\u001b[0m\u001b[0;34m\u001b[0m\u001b[0m\n",
            "\u001b[0;31mRecursionError\u001b[0m: maximum recursion depth exceeded"
          ]
        }
      ],
      "source": [
        "f()"
      ]
    },
    {
      "cell_type": "code",
      "execution_count": null,
      "metadata": {
        "colab": {
          "background_save": true,
          "base_uri": "https://localhost:8080/"
        },
        "id": "OiBLtMIVpZY3",
        "outputId": "3dcb98dd-f442-49a0-de63-8826f6a8a1eb"
      },
      "outputs": [
        {
          "name": "stdout",
          "output_type": "stream",
          "text": [
            "in g(x): x = 4\n"
          ]
        }
      ],
      "source": [
        "def g(x):\n",
        "    def h():\n",
        "        x = 'abc'\n",
        "        return x\n",
        "    x = x + 1\n",
        "    print('in g(x): x =', x)\n",
        "    h()\n",
        "    return x\n",
        "\n",
        "x = 3\n",
        "z = g(x)"
      ]
    },
    {
      "cell_type": "markdown",
      "source": [
        "Lambda function"
      ],
      "metadata": {
        "id": "MFRhnSqrCz9-"
      }
    },
    {
      "cell_type": "code",
      "execution_count": null,
      "metadata": {
        "id": "G86VmsEiqQEW",
        "colab": {
          "base_uri": "https://localhost:8080/"
        },
        "outputId": "129334ca-0a89-4ad7-aa9b-74570fcac712"
      },
      "outputs": [
        {
          "output_type": "execute_result",
          "data": {
            "text/plain": [
              "4"
            ]
          },
          "metadata": {},
          "execution_count": 1
        }
      ],
      "source": [
        "a = lambda x: x*x\n",
        "a(2)"
      ]
    },
    {
      "cell_type": "code",
      "source": [
        "res = lambda a,b : a + b\n",
        "res(1,2)"
      ],
      "metadata": {
        "colab": {
          "base_uri": "https://localhost:8080/"
        },
        "id": "PaPSmNMmC_fI",
        "outputId": "a7508013-0cd7-4ab0-c3d3-11150f2d26ba"
      },
      "execution_count": null,
      "outputs": [
        {
          "output_type": "execute_result",
          "data": {
            "text/plain": [
              "3"
            ]
          },
          "metadata": {},
          "execution_count": 2
        }
      ]
    },
    {
      "cell_type": "code",
      "source": [
        "bin = lambda str : \"a\" in str\n",
        "bin(\"Hello\")"
      ],
      "metadata": {
        "colab": {
          "base_uri": "https://localhost:8080/"
        },
        "id": "sa9vwxegDFoH",
        "outputId": "5872660d-0bd1-46f8-943b-0c47d3ff0912"
      },
      "execution_count": null,
      "outputs": [
        {
          "output_type": "execute_result",
          "data": {
            "text/plain": [
              "False"
            ]
          },
          "metadata": {},
          "execution_count": 3
        }
      ]
    },
    {
      "cell_type": "code",
      "source": [
        "evenodd = lambda x : \"even\" if x%2 == 0 else \"odd\"\n",
        "evenodd(2)"
      ],
      "metadata": {
        "colab": {
          "base_uri": "https://localhost:8080/",
          "height": 35
        },
        "id": "1iHf2WjGEUOW",
        "outputId": "10e81293-b79e-48a6-b40d-76dcf4c4eb8a"
      },
      "execution_count": null,
      "outputs": [
        {
          "output_type": "execute_result",
          "data": {
            "text/plain": [
              "'even'"
            ],
            "application/vnd.google.colaboratory.intrinsic+json": {
              "type": "string"
            }
          },
          "metadata": {},
          "execution_count": 5
        }
      ]
    },
    {
      "cell_type": "code",
      "source": [
        "evenodd(55)"
      ],
      "metadata": {
        "colab": {
          "base_uri": "https://localhost:8080/",
          "height": 35
        },
        "id": "lUgL147zEwLz",
        "outputId": "7963549c-561d-4819-ad50-1ca217093ab1"
      },
      "execution_count": null,
      "outputs": [
        {
          "output_type": "execute_result",
          "data": {
            "text/plain": [
              "'odd'"
            ],
            "application/vnd.google.colaboratory.intrinsic+json": {
              "type": "string"
            }
          },
          "metadata": {},
          "execution_count": 6
        }
      ]
    },
    {
      "cell_type": "markdown",
      "source": [
        "Higher Order Fucntions\n",
        "\n",
        "If a fucntion accepts another fucntion as an argument or returns function as an output, it is known as higher order function"
      ],
      "metadata": {
        "id": "zwBzVlvWFBqm"
      }
    },
    {
      "cell_type": "code",
      "source": [
        "def square(x):\n",
        "  return x**2\n",
        "\n",
        "def transform(f, L):\n",
        "  output = []\n",
        "  for i in L:\n",
        "    output.append(f(i))\n",
        "\n",
        "  print(output)\n",
        "\n",
        "L = [1,2,3,4]\n",
        "transform(square, L)"
      ],
      "metadata": {
        "colab": {
          "base_uri": "https://localhost:8080/"
        },
        "id": "kMddbO0FE1QK",
        "outputId": "d21249d1-177c-46cb-9f24-1baec1972619"
      },
      "execution_count": null,
      "outputs": [
        {
          "output_type": "stream",
          "name": "stdout",
          "text": [
            "[1, 4, 9, 16]\n"
          ]
        }
      ]
    },
    {
      "cell_type": "code",
      "source": [
        "# We can use lambda function instead of a normal function and create a higher order function\n",
        "\n",
        "def transform(f, L):\n",
        "  output = []\n",
        "  for i in L:\n",
        "    output.append(f(i))\n",
        "  print(output)\n",
        "\n",
        "transform(lambda x: x*x, L)"
      ],
      "metadata": {
        "colab": {
          "base_uri": "https://localhost:8080/"
        },
        "id": "UVB4h3J7GQfi",
        "outputId": "998b32f6-48eb-4e8e-90fe-23618de20ef2"
      },
      "execution_count": null,
      "outputs": [
        {
          "output_type": "stream",
          "name": "stdout",
          "text": [
            "[1, 4, 9, 16]\n"
          ]
        }
      ]
    },
    {
      "cell_type": "markdown",
      "source": [
        "# Map\n",
        "\n",
        "It need two input: -\n",
        "1. function or lambda function\n",
        "2. Iterable"
      ],
      "metadata": {
        "id": "y1Dj0yYFHJRl"
      }
    },
    {
      "cell_type": "code",
      "source": [
        "list(map(lambda x:x*x, [1,2,3,4,5]))"
      ],
      "metadata": {
        "colab": {
          "base_uri": "https://localhost:8080/"
        },
        "id": "qo24-uqEGstq",
        "outputId": "02b3d275-cdb7-4fa4-82b9-2d09a6dd4fa3"
      },
      "execution_count": null,
      "outputs": [
        {
          "output_type": "execute_result",
          "data": {
            "text/plain": [
              "[1, 4, 9, 16, 25]"
            ]
          },
          "metadata": {},
          "execution_count": 9
        }
      ]
    },
    {
      "cell_type": "code",
      "source": [
        "list(map(lambda users: users[\"name\"], users))"
      ],
      "metadata": {
        "id": "-TqlCRWaHfBt"
      },
      "execution_count": null,
      "outputs": []
    },
    {
      "cell_type": "code",
      "source": [
        "list(map(lambda x:\"even\" if x%2==0 else \"odd\", [1,2,3,4,5]))"
      ],
      "metadata": {
        "colab": {
          "base_uri": "https://localhost:8080/"
        },
        "id": "MVjiGlW2Ict3",
        "outputId": "43c2bccb-2359-4ce9-9f57-7b2c1bce6ff1"
      },
      "execution_count": null,
      "outputs": [
        {
          "output_type": "execute_result",
          "data": {
            "text/plain": [
              "['odd', 'even', 'odd', 'even', 'odd']"
            ]
          },
          "metadata": {},
          "execution_count": 10
        }
      ]
    },
    {
      "cell_type": "markdown",
      "source": [
        "# Filter\n"
      ],
      "metadata": {
        "id": "ZlpWk1fEI43o"
      }
    },
    {
      "cell_type": "code",
      "source": [
        "L = [1,2,33,4,5,6,7]\n",
        "\n",
        "list(filter(lambda x: x>5,L))"
      ],
      "metadata": {
        "colab": {
          "base_uri": "https://localhost:8080/"
        },
        "id": "3M2Zvt9YIn35",
        "outputId": "fc36c4af-5e19-43de-a710-6ad880c331ba"
      },
      "execution_count": null,
      "outputs": [
        {
          "output_type": "execute_result",
          "data": {
            "text/plain": [
              "[33, 6, 7]"
            ]
          },
          "metadata": {},
          "execution_count": 12
        }
      ]
    },
    {
      "cell_type": "code",
      "source": [
        "LL = [\"aa\",\"aba\", \"bb\"]\n",
        "\n",
        "list(filter(lambda x: x.startswith(\"a\"),LL))"
      ],
      "metadata": {
        "colab": {
          "base_uri": "https://localhost:8080/"
        },
        "id": "ozr5mIvjJDDX",
        "outputId": "a930df05-2b5c-487e-d9e6-d112e67f3dde"
      },
      "execution_count": null,
      "outputs": [
        {
          "output_type": "execute_result",
          "data": {
            "text/plain": [
              "['aa', 'aba']"
            ]
          },
          "metadata": {},
          "execution_count": 14
        }
      ]
    },
    {
      "cell_type": "markdown",
      "source": [
        "## Reduce"
      ],
      "metadata": {
        "id": "2EkCx18zKUZb"
      }
    },
    {
      "cell_type": "code",
      "source": [
        "import functools\n",
        "\n",
        "functools.reduce(lambda x,y:x+y, [1,2,3])"
      ],
      "metadata": {
        "colab": {
          "base_uri": "https://localhost:8080/"
        },
        "id": "7tRhEPZrJYIP",
        "outputId": "bf4cdad8-5198-43aa-c8f9-9a0fd2d521a1"
      },
      "execution_count": null,
      "outputs": [
        {
          "output_type": "execute_result",
          "data": {
            "text/plain": [
              "6"
            ]
          },
          "metadata": {},
          "execution_count": 16
        }
      ]
    },
    {
      "cell_type": "code",
      "source": [
        "# Fund min\n",
        "\n",
        "functools.reduce(lambda x,y:x if x<y else y, [1,2,3,4])"
      ],
      "metadata": {
        "colab": {
          "base_uri": "https://localhost:8080/"
        },
        "id": "tWaPr4lbKjUj",
        "outputId": "946982dd-df36-4cc1-fcee-7745d1783ab2"
      },
      "execution_count": null,
      "outputs": [
        {
          "output_type": "execute_result",
          "data": {
            "text/plain": [
              "1"
            ]
          },
          "metadata": {},
          "execution_count": 17
        }
      ]
    },
    {
      "cell_type": "code",
      "source": [],
      "metadata": {
        "id": "FLu4dSwXKzQK"
      },
      "execution_count": null,
      "outputs": []
    }
  ],
  "metadata": {
    "colab": {
      "provenance": [],
      "authorship_tag": "ABX9TyPtxicW0jAJKCZDgqZ2lgki",
      "include_colab_link": true
    },
    "kernelspec": {
      "display_name": "Python 3",
      "name": "python3"
    },
    "language_info": {
      "name": "python"
    }
  },
  "nbformat": 4,
  "nbformat_minor": 0
}