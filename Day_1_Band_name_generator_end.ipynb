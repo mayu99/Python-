{
  "nbformat": 4,
  "nbformat_minor": 0,
  "metadata": {
    "colab": {
      "provenance": [],
      "authorship_tag": "ABX9TyPJCipcWfULsa1d6xxXhjwr",
      "include_colab_link": true
    },
    "kernelspec": {
      "name": "python3",
      "display_name": "Python 3"
    },
    "language_info": {
      "name": "python"
    }
  },
  "cells": [
    {
      "cell_type": "markdown",
      "metadata": {
        "id": "view-in-github",
        "colab_type": "text"
      },
      "source": [
        "<a href=\"https://colab.research.google.com/github/mayu99/Python-/blob/main/Day_1_Band_name_generator_end.ipynb\" target=\"_parent\"><img src=\"https://colab.research.google.com/assets/colab-badge.svg\" alt=\"Open In Colab\"/></a>"
      ]
    },
    {
      "cell_type": "code",
      "execution_count": 4,
      "metadata": {
        "colab": {
          "base_uri": "https://localhost:8080/"
        },
        "id": "NgNSgLe9j8I_",
        "outputId": "b313149e-fb93-4605-c336-c57063c8a9b4"
      },
      "outputs": [
        {
          "output_type": "stream",
          "name": "stdout",
          "text": [
            "Elcome to the Band Name Generator\n",
            "What's the name of the city you grew in ?\n",
            "Mumbai\n",
            "What's your pet name?\n",
            "Bruno\n",
            "Your band name could be Mumbai Bruno\n"
          ]
        }
      ],
      "source": [
        "print(\"Elcome to the Band Name Generator\")\n",
        "print(\"What's the name of the city you grew in ?\")\n",
        "City = input()\n",
        "print(\"What's your pet name?\")\n",
        "Pet_name = input()\n",
        "\n",
        "print(f\"Your band name could be {City + ' ' + Pet_name}\")"
      ]
    },
    {
      "cell_type": "code",
      "source": [],
      "metadata": {
        "id": "Fb6VGXz2P5eL"
      },
      "execution_count": null,
      "outputs": []
    }
  ]
}